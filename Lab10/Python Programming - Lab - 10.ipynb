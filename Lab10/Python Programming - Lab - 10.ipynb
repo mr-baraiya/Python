{
 "cells": [
  {
   "cell_type": "markdown",
   "metadata": {},
   "source": [
    "<a href='https://www.darshan.ac.in/'> <img src='https://www.darshan.ac.in/Content/media/DU_Logo.svg' width=\"250\" height=\"300\"/></a>\n",
    "<pre>\n",
    "<center><b><h1>Python Programming - 2301CS404</b></center>\n",
    "<center><b><h1>Lab - 10</b></center>\n",
    "<center><b><h1>223 | Vishal Baraiya | 23010101014</b></center>\n",
    "<pre>"
   ]
  },
  {
   "cell_type": "markdown",
   "metadata": {},
   "source": [
    "# Exception Handling"
   ]
  },
  {
   "cell_type": "markdown",
   "metadata": {},
   "source": [
    "### 01) WAP to handle following exceptions:\n",
    "1. ZeroDivisionError\n",
    "2. ValueError\n",
    "3. TypeError\n",
    "#### Note: handle them using separate except blocks and also using single except block too."
   ]
  },
  {
   "cell_type": "code",
   "execution_count": 4,
   "metadata": {},
   "outputs": [
    {
     "name": "stdin",
     "output_type": "stream",
     "text": [
      "Enter the Number :  12\n",
      "Enter the Number :  3\n"
     ]
    },
    {
     "name": "stdout",
     "output_type": "stream",
     "text": [
      "12/3 = 4.0\n",
      "Type Error\n"
     ]
    }
   ],
   "source": [
    "try:\n",
    "    a = int(input(\"Enter the Number : \"))\n",
    "    b = int(input(\"Enter the Number : \")) # Value Error a = \"str\"\n",
    "    c = a / b\n",
    "    print (f\"{a}/{b} = {c}\") # Zero Division Error\n",
    "    print('a'+1) # Type Error\n",
    "except ZeroDivisionError :\n",
    "    print(\"Zero Division Error\")\n",
    "except ValueError :\n",
    "    print(\"Value Error\")\n",
    "except TypeError :\n",
    "    print(\"Type Error\")"
   ]
  },
  {
   "cell_type": "markdown",
   "metadata": {},
   "source": [
    "### 02)  WAP to handle following exceptions:\n",
    "1. IndexError\n",
    "2. KeyError"
   ]
  },
  {
   "cell_type": "code",
   "execution_count": 14,
   "metadata": {},
   "outputs": [
    {
     "name": "stdout",
     "output_type": "stream",
     "text": [
      "1\n",
      "KeyError : 2\n",
      "Key Error is Occured.\n"
     ]
    }
   ],
   "source": [
    "try:\n",
    "    # a = [1, 2, 3]\n",
    "    # print(a[5])  # IndexError\n",
    "\n",
    "    d = {'a':1,'b':2,'c':3}\n",
    "    print(d[2])  # KeyError\n",
    "    \n",
    "except IndexError as ie:\n",
    "    print(type(ie).__name__,\":\",ie)\n",
    "    print(\"Index Error is Occured.\")\n",
    "except KeyError as ke:\n",
    "    print(type(ke).__name__,\":\",ke)\n",
    "    print(\"Key Error is Occured.\")"
   ]
  },
  {
   "cell_type": "markdown",
   "metadata": {},
   "source": [
    "### 03) WAP to handle following exceptions:\n",
    "1. FileNotFoundError\n",
    "2. ModuleNotFoundError"
   ]
  },
  {
   "cell_type": "code",
   "execution_count": 17,
   "metadata": {},
   "outputs": [
    {
     "name": "stdout",
     "output_type": "stream",
     "text": [
      "ModuleNotFoundError No module named 'index'\n"
     ]
    }
   ],
   "source": [
    "try:\n",
    "    import index\n",
    "    \n",
    "    # with open('demo.txt') as fp:\n",
    "    #     print(fp.read())\n",
    "except FileNotFoundError as e:\n",
    "    print(type(e).__name__,e)\n",
    "except ModuleNotFoundError as e:\n",
    "    print(type(e).__name__,e)"
   ]
  },
  {
   "cell_type": "markdown",
   "metadata": {},
   "source": [
    "### 04) WAP that catches all type of exceptions in a single except block."
   ]
  },
  {
   "cell_type": "code",
   "execution_count": 20,
   "metadata": {},
   "outputs": [
    {
     "name": "stdout",
     "output_type": "stream",
     "text": [
      "ZeroDivisionError division by zero\n"
     ]
    }
   ],
   "source": [
    "try :\n",
    "    print(1/0)\n",
    "except Exception as e:\n",
    "    print(type(e).__name__,e)"
   ]
  },
  {
   "cell_type": "markdown",
   "metadata": {},
   "source": [
    "### 05) WAP to demonstrate else  and finally block."
   ]
  },
  {
   "cell_type": "code",
   "execution_count": 23,
   "metadata": {},
   "outputs": [
    {
     "name": "stdin",
     "output_type": "stream",
     "text": [
      "Enter the Number :  10\n",
      "Enter the Number :  2\n"
     ]
    },
    {
     "name": "stdout",
     "output_type": "stream",
     "text": [
      "10 / 2 = 5.0\n",
      "Else block Executed!\n",
      "Finally block Executed!\n"
     ]
    }
   ],
   "source": [
    "try:\n",
    "    a = int(input(\"Enter the Number : \"))\n",
    "    b = int(input(\"Enter the Number : \"))\n",
    "    ans = a / b\n",
    "    print(f\"{a} / {b} = {ans}\")\n",
    "except Exception as e:\n",
    "    print(type(e).__name__,e)\n",
    "else:\n",
    "    print(\"Else block Executed!\") # It will Execute when Error Will not Occured\n",
    "finally:\n",
    "    print(\"Finally block Executed!\") # It will Execute Every Time "
   ]
  },
  {
   "cell_type": "markdown",
   "metadata": {},
   "source": [
    "### 06) Create a short program that prompts the user for a list of grades separated by commas. \n",
    "### Split the string into individual grades and use a list comprehension to convert each string to an integer. \n",
    "### You should use a try statement to inform the user when the values they entered cannot be converted."
   ]
  },
  {
   "cell_type": "code",
   "execution_count": 29,
   "metadata": {},
   "outputs": [
    {
     "name": "stdin",
     "output_type": "stream",
     "text": [
      "Enter the Grades using ( , ) Seprated :  12,34,rt\n"
     ]
    },
    {
     "name": "stdout",
     "output_type": "stream",
     "text": [
      "ValueError invalid literal for int() with base 10: 'rt'\n"
     ]
    }
   ],
   "source": [
    "try:\n",
    "    s = input(\"Enter the Grades using ( , ) Seprated : \")\n",
    "    l = s.split(',')\n",
    "    l = [int(i) for i in l]\n",
    "    print(l)\n",
    "except Exception as e:\n",
    "    print(type(e).__name__,e)"
   ]
  },
  {
   "cell_type": "markdown",
   "metadata": {},
   "source": [
    "### 07) WAP to create an udf divide(a,b) that handles ZeroDivisionError."
   ]
  },
  {
   "cell_type": "code",
   "execution_count": 36,
   "metadata": {},
   "outputs": [
    {
     "name": "stdout",
     "output_type": "stream",
     "text": [
      "ZeroDivisionError division by zero\n"
     ]
    }
   ],
   "source": [
    "def divide(a,b):\n",
    "    try:\n",
    "        return a/b\n",
    "    except Exception as e:\n",
    "        print(type(e).__name__,e)\n",
    "\n",
    "divide(12,0)"
   ]
  },
  {
   "cell_type": "markdown",
   "metadata": {},
   "source": [
    "### 08) WAP that gets an age of a person form the user and raises ValueError with error message: \"Enter Valid Age\" :\n",
    "#### If the age is less than 18. \n",
    "#### otherwise print the age."
   ]
  },
  {
   "cell_type": "code",
   "execution_count": 47,
   "metadata": {},
   "outputs": [
    {
     "name": "stdin",
     "output_type": "stream",
     "text": [
      "Enter the Age :  18\n"
     ]
    },
    {
     "name": "stdout",
     "output_type": "stream",
     "text": [
      "Age = 18\n"
     ]
    }
   ],
   "source": [
    "try:\n",
    "    age = int(input(\"Enter the Age : \"))\n",
    "    if (age < 18):\n",
    "        raise ValueError(\"This is Value Error Genrated By me.\")\n",
    "    else:\n",
    "        print(f\"Age = {age}\")\n",
    "        \n",
    "except ValueError as e:\n",
    "    print(type(e).__name__,e)"
   ]
  },
  {
   "cell_type": "markdown",
   "metadata": {},
   "source": [
    "### 09) WAP to raise your custom Exception named InvalidUsernameError with the error message : \"Username must be between 5 and 15 characters long\":\n",
    "#### if the given name is having characters less than 5 or greater than 15.\n",
    "#### otherwise print the given username."
   ]
  },
  {
   "cell_type": "code",
   "execution_count": 58,
   "metadata": {},
   "outputs": [
    {
     "name": "stdin",
     "output_type": "stream",
     "text": [
      "Enter the User Name :  Vishalbhai Baraiya\n"
     ]
    },
    {
     "name": "stdout",
     "output_type": "stream",
     "text": [
      "InvalidUsernameError Username must be between 5 and 15 characters long\n"
     ]
    }
   ],
   "source": [
    "class InvalidUsernameError(Exception) :\n",
    "    def __init__(self,msg):\n",
    "        self.msg = msg\n",
    "try:\n",
    "    name = input(\"Enter the User Name : \")\n",
    "    if (len(name) >= 5) and (len(name) <= 15):\n",
    "        print(f\"UserName : {name}\")\n",
    "    else:\n",
    "        raise InvalidUsernameError(\"Username must be between 5 and 15 characters long\")\n",
    "except Exception as e:\n",
    "    print(type(e).__name__,e)"
   ]
  },
  {
   "cell_type": "markdown",
   "metadata": {},
   "source": [
    "### 10) WAP to raise your custom Exception named NegativeNumberError with the error message : \"Cannot calculate the square root of a negative number\" :\n",
    "#### if the given number is negative.\n",
    "#### otherwise print the square root of the given number."
   ]
  },
  {
   "cell_type": "code",
   "execution_count": 65,
   "metadata": {},
   "outputs": [
    {
     "name": "stdin",
     "output_type": "stream",
     "text": [
      "Enter the Number :  -657567686876867868678756757457576754767656\n"
     ]
    },
    {
     "name": "stdout",
     "output_type": "stream",
     "text": [
      "NegativeNumberError Cannot calculate the square root of a negative number.\n"
     ]
    }
   ],
   "source": [
    "import math\n",
    "class NegativeNumberError(Exception) :\n",
    "    def __init__(self,msg):\n",
    "        self.msg = msg\n",
    "try:\n",
    "    n = int(input(\"Enter the Number : \"))\n",
    "    if (n < 0):\n",
    "        raise NegativeNumberError(\"Cannot calculate the square root of a negative number.\")\n",
    "    else:\n",
    "        print(f\"sqrt Of {n} = {math.sqrt(n)}\")\n",
    "except Exception as e:\n",
    "    print(type(e).__name__,e)"
   ]
  },
  {
   "cell_type": "code",
   "execution_count": null,
   "metadata": {},
   "outputs": [],
   "source": []
  }
 ],
 "metadata": {
  "kernelspec": {
   "display_name": "Python 3 (ipykernel)",
   "language": "python",
   "name": "python3"
  },
  "language_info": {
   "codemirror_mode": {
    "name": "ipython",
    "version": 3
   },
   "file_extension": ".py",
   "mimetype": "text/x-python",
   "name": "python",
   "nbconvert_exporter": "python",
   "pygments_lexer": "ipython3",
   "version": "3.13.1"
  }
 },
 "nbformat": 4,
 "nbformat_minor": 4
}
