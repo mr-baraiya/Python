{
 "cells": [
  {
   "cell_type": "markdown",
   "metadata": {},
   "source": [
    "<a href='https://www.darshan.ac.in/'> <img src='https://www.darshan.ac.in/Content/media/DU_Logo.svg' width=\"250\" height=\"300\"/></a>\n",
    "<pre>\n",
    "<center><b><h1>Python Programming - 2301CS404</b></center>\n",
    "<center><b><h1>Lab - 9</b></center>    \n",
    "<center><b><h1>223 | Vishal Baraiya | 23010101014</b></center>    \n",
    "<pre>"
   ]
  },
  {
   "cell_type": "markdown",
   "metadata": {},
   "source": [
    "# File I/O"
   ]
  },
  {
   "cell_type": "markdown",
   "metadata": {},
   "source": [
    "### 01) WAP to read and display the contents of a text file. (also try to open the file in some other directory) \n",
    "#### - in the form of a string\n",
    "#### - line by line\n",
    "#### - in the form of a list"
   ]
  },
  {
   "cell_type": "code",
   "execution_count": 14,
   "metadata": {},
   "outputs": [
    {
     "name": "stdout",
     "output_type": "stream",
     "text": [
      "I am Python.\n",
      "This is Demo Text File.\n",
      "\n",
      "I am Python.\n",
      "This is Demo Text File.\n",
      "\n",
      "\n",
      "I am Python.\n",
      "This is Demo Text File.\n",
      "\n",
      "['I am Python.\\n', 'This is Demo Text File.']\n"
     ]
    }
   ],
   "source": [
    "# Read by File Pointer in another directory\n",
    "# fp = open(\"D:\\\\Media\\\\demo.txt\",\"r\")\n",
    "# for i in fp:\n",
    "#     print(i,end=\"\")\n",
    "# fp.close()\n",
    "\n",
    "# Read by File Pointer\n",
    "fp = open(\"Demo.txt\",\"r\")\n",
    "for i in fp:\n",
    "    print(i,end=\"\")\n",
    "fp.close()\n",
    "\n",
    "# Read by Read()\n",
    "print(\"\\n\")\n",
    "fp = open(\"Demo.txt\",\"r\")\n",
    "print(fp.read())\n",
    "fp.close()\n",
    "\n",
    "# Read by Readline()\n",
    "print(\"\\n\")\n",
    "fp = open(\"Demo.txt\",\"r\")\n",
    "while True:\n",
    "    line = fp.readline()  # Read a single line\n",
    "    if not line:           # Break the loop if EOF is reached\n",
    "        break\n",
    "    print(line,end=\"\")   \n",
    "fp.close()\n",
    "\n",
    "# Read by Readlines()\n",
    "print(\"\\n\")\n",
    "fp = open(\"Demo.txt\",\"r\")\n",
    "l = fp.readlines()\n",
    "print(l)\n",
    "fp.close()\n"
   ]
  },
  {
   "cell_type": "markdown",
   "metadata": {},
   "source": [
    "### 02) WAP to create file named \"new.txt\" only if it doesn't exist."
   ]
  },
  {
   "cell_type": "code",
   "execution_count": 17,
   "metadata": {},
   "outputs": [
    {
     "name": "stdout",
     "output_type": "stream",
     "text": [
      "Hello World!\n"
     ]
    }
   ],
   "source": [
    "with open(\"new.txt\",\"x\") as fp:\n",
    "    fp.write(\"Hello World!\")\n",
    "    \n",
    "with open(\"new.txt\",\"r\") as fp:\n",
    "    print(fp.read())    "
   ]
  },
  {
   "cell_type": "markdown",
   "metadata": {},
   "source": [
    "### 03) WAP to read first 5 lines from the text file."
   ]
  },
  {
   "cell_type": "code",
   "execution_count": 19,
   "metadata": {},
   "outputs": [
    {
     "name": "stdout",
     "output_type": "stream",
     "text": [
      "Lorem ipsum dolor sit amet, consectetur adipiscing elit, sed do eiusmod tempor incididunt ut labore et dolore magna aliqua.\n",
      "Ut enim ad minim veniam, quis nostrud exercitation ullamco laboris nisi ut aliquip ex ea commodo consequat.\n",
      "Duis aute irure dolor in reprehenderit in voluptate velit esse cillum dolore eu fugiat nulla pariatur.\n",
      "Excepteur sint occaecat cupidatat non proident, sunt in culpa qui officia deserunt mollit anim id est laborum.\n",
      "Lorem ipsum dolor sit amet, consectetur adipiscing elit, sed do eiusmod tempor incididunt ut labore et dolore magna aliqua.\n"
     ]
    }
   ],
   "source": [
    "# Open the file\n",
    "with open('demo.txt', 'r') as fp:\n",
    "    for i in range(5):\n",
    "        line = file.readline()\n",
    "        if not line:  # Break if the file has less than 5 lines\n",
    "            break\n",
    "        print(line.strip())  # Print the line without extra whitespace\n"
   ]
  },
  {
   "cell_type": "markdown",
   "metadata": {},
   "source": [
    "### 04) WAP to find the longest word(s) in a file"
   ]
  },
  {
   "cell_type": "code",
   "execution_count": 33,
   "metadata": {},
   "outputs": [
    {
     "name": "stdout",
     "output_type": "stream",
     "text": [
      "Highest Length String : reprehenderit\n"
     ]
    }
   ],
   "source": [
    "with open(\"demo.txt\",\"r\") as fp:\n",
    "    l = fp.read().split()\n",
    "    maxLengthS = \" \"\n",
    "    for i in l:\n",
    "        if (len(i) > len(maxLengthS)):\n",
    "            maxLengthS = i\n",
    "    print(\"Highest Length String :\",maxLengthS)"
   ]
  },
  {
   "cell_type": "markdown",
   "metadata": {},
   "source": [
    "### 05) WAP to count the no. of lines, words and characters in a given text file."
   ]
  },
  {
   "cell_type": "code",
   "execution_count": 45,
   "metadata": {},
   "outputs": [
    {
     "name": "stdout",
     "output_type": "stream",
     "text": [
      "No. Of Lines :  8\n",
      "No. Of Words :  138\n",
      "No. Of Charcters :  884\n"
     ]
    }
   ],
   "source": [
    "with open(\"demo.txt\",\"r\") as fp:\n",
    "    print(\"No. Of Lines : \",len(fp.readlines()))\n",
    "    fp.seek(0,0)\n",
    "    print(\"No. Of Words : \",len(fp.read().split()))\n",
    "    fp.seek(0,0)\n",
    "    print(\"No. Of Charcters : \",len(fp.read().replace(\"\\n\",\"\")))"
   ]
  },
  {
   "cell_type": "markdown",
   "metadata": {},
   "source": [
    "### 06) WAP to copy the content of a file to the another file."
   ]
  },
  {
   "cell_type": "code",
   "execution_count": 46,
   "metadata": {},
   "outputs": [],
   "source": [
    "s = \" \"\n",
    "with open(\"demo.txt\",\"r\") as fp:\n",
    "    s = fp.read()\n",
    "with open(\"demo-copy.txt\",\"w\") as fp:\n",
    "    fp.write(s)"
   ]
  },
  {
   "cell_type": "markdown",
   "metadata": {},
   "source": [
    "### 07) WAP to find the size of the text file. "
   ]
  },
  {
   "cell_type": "code",
   "execution_count": 47,
   "metadata": {},
   "outputs": [
    {
     "name": "stdout",
     "output_type": "stream",
     "text": [
      "The size of the file 'demo.txt' is 891 bytes.\n"
     ]
    }
   ],
   "source": [
    "import os\n",
    "\n",
    "# Specify the file path\n",
    "file_path = \"demo.txt\"\n",
    "\n",
    "# Check if the file exists\n",
    "if os.path.exists(file_path):\n",
    "    # Get the size of the file in bytes\n",
    "    file_size = os.path.getsize(file_path)\n",
    "    print(f\"The size of the file '{file_path}' is {file_size} bytes.\")\n",
    "else:\n",
    "    print(f\"The file '{file_path}' does not exist.\")\n"
   ]
  },
  {
   "cell_type": "markdown",
   "metadata": {},
   "source": [
    "### 08) WAP to create an UDF named frequency to count occurances of the specific word in a given text file."
   ]
  },
  {
   "cell_type": "code",
   "execution_count": 52,
   "metadata": {},
   "outputs": [
    {
     "name": "stdout",
     "output_type": "stream",
     "text": [
      "Count Of Lorem is = 2\n"
     ]
    }
   ],
   "source": [
    "def frequency(file_path,word):\n",
    "    with open(file_path,'r')as fp:\n",
    "        l = fp.read().split()\n",
    "        count = 0\n",
    "        for i in l:\n",
    "            if word.lower() == i.lower():\n",
    "                count += 1\n",
    "    print(f\"Count Of {word} is = {count}\")\n",
    "\n",
    "frequency(\"demo.txt\",\"Lorem\")"
   ]
  },
  {
   "cell_type": "markdown",
   "metadata": {},
   "source": [
    "### 09) WAP to get the score of five subjects from the user, store them in a file. Fetch those marks and find the highest score."
   ]
  },
  {
   "cell_type": "code",
   "execution_count": 7,
   "metadata": {},
   "outputs": [
    {
     "name": "stdin",
     "output_type": "stream",
     "text": [
      "Enter the Length of List :  5\n",
      "Enter the Score of 0th subject :  23\n",
      "Enter the Score of 1th subject :  45\n",
      "Enter the Score of 2th subject :  67\n",
      "Enter the Score of 3th subject :  89\n",
      "Enter the Score of 4th subject :  12\n"
     ]
    },
    {
     "name": "stdout",
     "output_type": "stream",
     "text": [
      "Max Score : 89\n"
     ]
    }
   ],
   "source": [
    "with open(\"scores.txt\",\"w\") as fp:\n",
    "    scores = []\n",
    "    n = int(input(\"Enter the Length of List : \"))\n",
    "    for i in range(0,n,1):\n",
    "        temp = int(input(f\"Enter the Score of {i}th subject : \"))\n",
    "        scores.append(temp)\n",
    "    for i in scores:\n",
    "        fp.write(str(i))\n",
    "        fp.write(\"\\n\")\n",
    "\n",
    "with open(\"scores.txt\",\"r\") as fp:\n",
    "    l = fp.read().split()\n",
    "    print(f\"Max Score : {max(l)}\")"
   ]
  },
  {
   "cell_type": "markdown",
   "metadata": {},
   "source": [
    "### 10) WAP to write first 100 prime numbers to a file named primenumbers.txt \n",
    "(Note: each number should be in new line)"
   ]
  },
  {
   "cell_type": "code",
   "execution_count": 11,
   "metadata": {},
   "outputs": [
    {
     "name": "stdout",
     "output_type": "stream",
     "text": [
      "File Write Successfully!\n"
     ]
    }
   ],
   "source": [
    "def isPrime(n = int):\n",
    "    for i in range(2,n//2+2):\n",
    "        if(n % i == 0):\n",
    "            return False\n",
    "    else:\n",
    "        return True\n",
    "with open(\"primenumbers.txt\",\"w\") as fp:\n",
    "    i,count = 2,0\n",
    "    while(count != 100):\n",
    "        if isPrime(i):\n",
    "            fp.write(str(i))\n",
    "            fp.write(\"\\n\")\n",
    "            count += 1\n",
    "        i += 1\n",
    "print(\"File Write Successfully!\")"
   ]
  },
  {
   "cell_type": "markdown",
   "metadata": {},
   "source": [
    "### 11) WAP to merge two files and write it in a new file."
   ]
  },
  {
   "cell_type": "code",
   "execution_count": 13,
   "metadata": {},
   "outputs": [
    {
     "name": "stdout",
     "output_type": "stream",
     "text": [
      "File Merged Successfully!\n"
     ]
    }
   ],
   "source": [
    "fp1 = open(\"scores.txt\",\"r\")\n",
    "fp2 = open(\"primenumbers.txt\")\n",
    "fp3 = open(\"merged.txt\",\"w\")\n",
    "fp3.write(fp1.read())\n",
    "fp3.write(fp2.read())\n",
    "fp1.close()\n",
    "fp2.close()\n",
    "fp3.close()\n",
    "print(\"File Merged Successfully!\")"
   ]
  },
  {
   "cell_type": "markdown",
   "metadata": {},
   "source": [
    "### 12) WAP to replace word1 by word2 of a text file. Write the updated data to new file."
   ]
  },
  {
   "cell_type": "code",
   "execution_count": 27,
   "metadata": {},
   "outputs": [
    {
     "name": "stdin",
     "output_type": "stream",
     "text": [
      "Enter th word1 :  in\n",
      "Enter th word2 :  #####\n"
     ]
    },
    {
     "name": "stdout",
     "output_type": "stream",
     "text": [
      "Successfully complated!\n"
     ]
    }
   ],
   "source": [
    "word1 = input(\"Enter th word1 : \")\n",
    "word2 = input(\"Enter th word2 : \")\n",
    "s = \" \"\n",
    "fp1 = open(\"demo.txt\",\"r\")\n",
    "fp2 = open(\"new.txt\",\"w\")\n",
    "s = fp1.read()\n",
    "fp2.write(s.replace(word1,word2))\n",
    "fp1.close()\n",
    "fp2.close()\n",
    "print(\"Successfully complated!\")"
   ]
  },
  {
   "cell_type": "markdown",
   "metadata": {},
   "source": [
    "### 13) Demonstrate tell() and seek() for all the cases(seek from beginning-end-current position) taking a suitable example of your choice."
   ]
  },
  {
   "cell_type": "code",
   "execution_count": 31,
   "metadata": {},
   "outputs": [
    {
     "name": "stdout",
     "output_type": "stream",
     "text": [
      "b'Lorem ipsu'\n",
      "Current Position :  10\n",
      "Current Position :  3\n",
      "Current Position :  8\n",
      "Current Position :  918\n"
     ]
    }
   ],
   "source": [
    "with open(\"demo.txt\",\"rb\") as fp:\n",
    "    print(fp.read(10))\n",
    "    print(\"Current Position : \",fp.tell())\n",
    "    fp.seek(3,0) # 0 is use for from begining to 3 offset\n",
    "    print(\"Current Position : \",fp.tell())\n",
    "    fp.seek(5,1) # 1 is use for from Current Position to 5 offset\n",
    "    print(\"Current Position : \",fp.tell())\n",
    "    fp.seek(-3,2) # 2 is use for from ending to -3 offset\n",
    "    print(\"Current Position : \",fp.tell())\n",
    "\n",
    "# seek() second args 1,2 use in only binary files \n",
    "    "
   ]
  },
  {
   "cell_type": "code",
   "execution_count": null,
   "metadata": {},
   "outputs": [],
   "source": []
  }
 ],
 "metadata": {
  "kernelspec": {
   "display_name": "Python 3 (ipykernel)",
   "language": "python",
   "name": "python3"
  },
  "language_info": {
   "codemirror_mode": {
    "name": "ipython",
    "version": 3
   },
   "file_extension": ".py",
   "mimetype": "text/x-python",
   "name": "python",
   "nbconvert_exporter": "python",
   "pygments_lexer": "ipython3",
   "version": "3.13.1"
  }
 },
 "nbformat": 4,
 "nbformat_minor": 4
}
