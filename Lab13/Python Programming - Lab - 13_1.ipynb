{
 "cells": [
  {
   "cell_type": "markdown",
   "metadata": {},
   "source": [
    "<a href='https://www.darshan.ac.in/'> <img src='https://www.darshan.ac.in/Content/media/DU_Logo.svg' width=\"250\" height=\"300\"/></a>\n",
    "<pre>\n",
    "<center><b><h1>Python Programming - 2301CS404</b></center>\n",
    "<center><b><h1>Lab - 13</b></center>\n",
    "<center><b><h1>223 | Vishal Baraiya | 23010101014</b></center>   \n",
    "<pre>"
   ]
  },
  {
   "cell_type": "markdown",
   "metadata": {},
   "source": [
    "# OOP"
   ]
  },
  {
   "cell_type": "markdown",
   "metadata": {},
   "source": [
    "### 01) Write a Program to create a class by name Students, and initialize attributes like name, age, and grade while creating an object."
   ]
  },
  {
   "cell_type": "code",
   "execution_count": 4,
   "metadata": {},
   "outputs": [
    {
     "name": "stdout",
     "output_type": "stream",
     "text": [
      " name = Karan Aahir \n",
      " Age = 55 \n",
      " Grade = F\n"
     ]
    }
   ],
   "source": [
    "class Students:\n",
    "    def __init__(self,name,age,grade):\n",
    "        self.name = name\n",
    "        self.age = age\n",
    "        self.grade = grade\n",
    "\n",
    "s1 = Students(\"Karan Aahir\",55,'F')\n",
    "print(f\" name = {s1.name} \\n Age = {s1.age} \\n Grade = {s1.grade}\")"
   ]
  },
  {
   "cell_type": "markdown",
   "metadata": {},
   "source": [
    "### 02) Create a class named Bank_Account with Account_No, User_Name, Email,Account_Type and Account_Balance data members. Also create a method GetAccountDetails() and DisplayAccountDetails(). Create main method to demonstrate the Bank_Account class."
   ]
  },
  {
   "cell_type": "code",
   "execution_count": 8,
   "metadata": {},
   "outputs": [
    {
     "name": "stdin",
     "output_type": "stream",
     "text": [
      "Enter the Account Number :  123456789\n",
      "Enter the User Name :  Karan\n",
      "Enter the Email :  karan1234@gmail.com\n",
      "Enter the Account Type :  demate\n",
      "Enter the Account Blance :  150\n"
     ]
    },
    {
     "name": "stdout",
     "output_type": "stream",
     "text": [
      "Account Number : 123456789\n",
      "User Name : Karan\n",
      "Email : karan1234@gmail.com\n",
      "Account Type : demate\n",
      "Account Balance : 150.0\n"
     ]
    }
   ],
   "source": [
    "class Bank_Account:\n",
    "    Account_No = 0\n",
    "    User_Name = \"\"\n",
    "    Email = \"\"\n",
    "    Account_Type = \"\"\n",
    "    Account_Balance = 0.0\n",
    "\n",
    "    def GetAccountDetails(self):\n",
    "        self.Account_No = int(input(\"Enter the Account Number : \"))\n",
    "        self.User_Name = input(\"Enter the User Name : \")\n",
    "        self.Email = input(\"Enter the Email : \")\n",
    "        self.Account_Type = input(\"Enter the Account Type : \")\n",
    "        self.Account_Balance = float(input(\"Enter the Account Blance : \"))\n",
    "\n",
    "    def DisplayAccountDetails(self):\n",
    "        print(f'Account Number : {self.Account_No}')\n",
    "        print(f'User Name : {self.User_Name}')\n",
    "        print(f'Email : {self.Email}')\n",
    "        print(f'Account Type : {self.Account_Type}')\n",
    "        print(f'Account Balance : {self.Account_Balance}')\n",
    "\n",
    "b = Bank_Account()\n",
    "b.GetAccountDetails()\n",
    "b.DisplayAccountDetails()"
   ]
  },
  {
   "cell_type": "markdown",
   "metadata": {},
   "source": [
    "### 03) WAP to create Circle class with area and perimeter function to find area and perimeter of circle."
   ]
  },
  {
   "cell_type": "code",
   "execution_count": 15,
   "metadata": {},
   "outputs": [
    {
     "name": "stdout",
     "output_type": "stream",
     "text": [
      "Area = 615.7521601035994\n",
      "Perimeter = 87.96459430051421\n"
     ]
    }
   ],
   "source": [
    "class Circle:\n",
    "\n",
    "    def __init__(self,r):\n",
    "        self.r = r\n",
    "\n",
    "    def findPerimeter(self):\n",
    "        return 2 * math.pi * self.r\n",
    "        \n",
    "    def findArea(self):\n",
    "        return math.pi * self.r * self.r\n",
    "\n",
    "c = Circle(14)  \n",
    "print(f\"Area = {c.findArea()}\")\n",
    "print(f\"Perimeter = {c.findPerimeter()}\")"
   ]
  },
  {
   "cell_type": "markdown",
   "metadata": {},
   "source": [
    "### 04) Create a class for employees that includes attributes such as name, age, salary, and methods to update and display employee information."
   ]
  },
  {
   "cell_type": "code",
   "execution_count": 16,
   "metadata": {},
   "outputs": [
    {
     "name": "stdin",
     "output_type": "stream",
     "text": [
      "Enter the Name :  Rishil\n",
      "Enter the Age :  12\n",
      "Enter the Salary :  7800\n"
     ]
    },
    {
     "name": "stdout",
     "output_type": "stream",
     "text": [
      "Name = Rishil\n",
      "age = 12\n",
      "Salry = 7800\n"
     ]
    }
   ],
   "source": [
    "class Employees:\n",
    "    \n",
    "    def __init__(self,name,age,salary):\n",
    "        self.name = name\n",
    "        self.age = age\n",
    "        self.salary = salary\n",
    "\n",
    "    def UpdateEmployeeDetails(self):\n",
    "        self.name = input(\"Enter the Name : \")\n",
    "        self.age = int(input(\"Enter the Age : \"))\n",
    "        self.salary = int(input(\"Enter the Salary : \"))\n",
    "\n",
    "    def DisplayEmplooyeeDetails(self):\n",
    "        print(f\"Name = {self.name}\")\n",
    "        print(f\"age = {self.age}\")\n",
    "        print(f\"Salry = {self.salary}\")\n",
    "    \n",
    "e = Employees('Karan Aahir',18,120000)\n",
    "e.UpdateEmployeeDetails()\n",
    "e.DisplayEmplooyeeDetails()"
   ]
  },
  {
   "cell_type": "markdown",
   "metadata": {},
   "source": [
    "### 05) Create a bank account class with methods to deposit, withdraw, and check balance."
   ]
  },
  {
   "cell_type": "code",
   "execution_count": 21,
   "metadata": {},
   "outputs": [
    {
     "name": "stdout",
     "output_type": "stream",
     "text": [
      "Account Number = 102321\n",
      "Name = Karan Aahir\n",
      "Current Balance = 200\n",
      "Hello! Karan Aahir your 50 is Suuccessfully Deposited.\n",
      "Account Number = 102321\n",
      "Name = Karan Aahir\n",
      "Current Balance = 250\n",
      "Insufficient Balance!\n",
      "Your Withdraw Ammount = 1000 and your Current Balance = 250.\n",
      "Account Number = 102321\n",
      "Name = Karan Aahir\n",
      "Current Balance = 250\n"
     ]
    }
   ],
   "source": [
    "class Bank_Account:\n",
    "\n",
    "    def __init__(self,accountno,name,balance):\n",
    "        self.Account_No = accountno\n",
    "        self.Name = name\n",
    "        self.Balance = balance\n",
    "\n",
    "    def deposit(self,Amount):\n",
    "        self.Balance += Amount\n",
    "        print(f\"Hello! {self.Name} your {Amount} is Suuccessfully Deposited.\")\n",
    "\n",
    "    def withdraw(self,Amount):\n",
    "        if (Amount <= self.Balance) and (Amount >= 0):\n",
    "            self.Balance -= Amount\n",
    "            print(f\"Hello! {self.Name}, your {Amount} is successfully withdrawn.\")\n",
    "        else:\n",
    "            print(f\"Insufficient Balance!\")\n",
    "            print(f\"Your Withdraw Ammount = {Amount} and your Current Balance = {self.Balance}.\")\n",
    "\n",
    "    def display(self):\n",
    "        print(f\"Account Number = {self.Account_No}\")\n",
    "        print(f\"Name = {self.Name}\")\n",
    "        print(f\"Current Balance = {self.Balance}\")\n",
    "        \n",
    "b = Bank_Account(102321,'Karan Aahir',200)\n",
    "b.display()\n",
    "b.deposit(50)\n",
    "b.display()\n",
    "b.withdraw(100)\n",
    "b.display()"
   ]
  },
  {
   "cell_type": "markdown",
   "metadata": {},
   "source": [
    "### 06) Create a class for managing inventory that includes attributes such as item name, price, quantity, and methods to add, remove, and update items."
   ]
  },
  {
   "cell_type": "code",
   "execution_count": 1,
   "metadata": {},
   "outputs": [
    {
     "name": "stdout",
     "output_type": "stream",
     "text": [
      "Item 'Laptop' added to inventory.\n",
      "Item 'Smartphone' added to inventory.\n",
      "Laptop - $1200 x 10 in stock\n",
      "Smartphone - $800 x 20 in stock\n",
      "Item 'Laptop' updated.\n",
      "Item 'Smartphone' removed from inventory.\n",
      "Laptop - $1200 x 15 in stock\n"
     ]
    }
   ],
   "source": [
    "class Inventory:\n",
    "    def __init__(self):\n",
    "        self.inventory = {}\n",
    "\n",
    "    def add_item(self, item_name, price, quantity):\n",
    "        if item_name in self.inventory:\n",
    "            print(f\"Item '{item_name}' already exists.\")\n",
    "        else:\n",
    "            self.inventory[item_name] = {'price': price, 'quantity': quantity}\n",
    "            print(f\"Item '{item_name}' added to inventory.\")\n",
    "\n",
    "    def remove_item(self, item_name):\n",
    "        if item_name in self.inventory:\n",
    "            del self.inventory[item_name]\n",
    "            print(f\"Item '{item_name}' removed from inventory.\")\n",
    "        else:\n",
    "            print(f\"Item '{item_name}' not found in inventory.\")\n",
    "\n",
    "    def update_item(self, item_name, price=None, quantity=None):\n",
    "        if item_name in self.inventory:\n",
    "            self.inventory[item_name]['price'] = price\n",
    "            self.inventory[item_name]['quantity'] = quantity\n",
    "            print(f\"Item '{item_name}' updated.\")\n",
    "        else:\n",
    "            print(f\"Item '{item_name}' not found in inventory.\")\n",
    "\n",
    "    def view_inventory(self):\n",
    "        if not self.inventory:\n",
    "            print(\"Inventory is empty.\")\n",
    "        else:\n",
    "            for item_name, details in self.inventory.items():\n",
    "                print(f\"{item_name} - ${details['price']} x {details['quantity']} in stock\")\n",
    "\n",
    "# Example usage:\n",
    "i = Inventory()\n",
    "\n",
    "# Add items\n",
    "i.add_item(\"Laptop\", 1200, 10)\n",
    "i.add_item(\"Smartphone\", 800, 20)\n",
    "\n",
    "# View current inventory\n",
    "i.view_inventory()\n",
    "\n",
    "# Update item\n",
    "i.update_item(\"Laptop\", quantity=15)\n",
    "\n",
    "# Remove item\n",
    "i.remove_item(\"Smartphone\")\n",
    "\n",
    "# View updated inventory\n",
    "i.view_inventory()\n"
   ]
  },
  {
   "cell_type": "markdown",
   "metadata": {},
   "source": [
    "### 07) Create a Class with instance attributes of your choice."
   ]
  },
  {
   "cell_type": "code",
   "execution_count": 5,
   "metadata": {},
   "outputs": [
    {
     "name": "stdout",
     "output_type": "stream",
     "text": [
      "Student ID: 101, Name: Karan, Age: 20, Grade: A\n"
     ]
    }
   ],
   "source": [
    "class Student:\n",
    "    def __init__(self, Name, Age, StudentID, Grade):\n",
    "        self.Name = Name\n",
    "        self.Age = Age\n",
    "        self.StudentID = StudentID\n",
    "        self.Grade = Grade\n",
    "\n",
    "    def display(self):\n",
    "        return f\"Student ID: {self.StudentID}, Name: {self.Name}, Age: {self.Age}, Grade: {self.Grade}\"\n",
    "\n",
    "s = Student(\"Karan\", 20, \"101\", \"A\")\n",
    "print(s.display())\n"
   ]
  },
  {
   "cell_type": "markdown",
   "metadata": {},
   "source": [
    "### 08) Create one class student_kit\n",
    "#### Within the student_kit class create one class attribute principal name ( Mr ABC )\n",
    "#### Create one attendance method and take input as number of days.\n",
    "#### While creating student take input their name .\n",
    "#### Create one certificate for each student by taking input of number of days present in class."
   ]
  },
  {
   "cell_type": "code",
   "execution_count": 4,
   "metadata": {},
   "outputs": [
    {
     "name": "stdin",
     "output_type": "stream",
     "text": [
      "Enter the student's name:  Vishal\n",
      "Enter the number of days present in class:  12\n"
     ]
    },
    {
     "name": "stdout",
     "output_type": "stream",
     "text": [
      "Certificate of Attendance\n",
      "This is to certify that Vishal\n",
      "has attended 12 days of class.\n",
      "Principal: Mr. ABC\n"
     ]
    }
   ],
   "source": [
    "class StudentKit:\n",
    "    PrincipalName = \"Mr. ABC\"\n",
    "\n",
    "    def __init__(self, name):\n",
    "        self.StudentName = name\n",
    "        self.AttendanceDays = 0\n",
    "\n",
    "    def Attendance(self, days):\n",
    "        self.AttendanceDays = days\n",
    "\n",
    "    # Method to generate a certificate\n",
    "    def GetCertificate(self):\n",
    "        print(f\"Certificate of Attendance\")\n",
    "        print(f\"This is to certify that {self.StudentName}\")\n",
    "        print(f\"has attended {self.AttendanceDays} days of class.\")\n",
    "        print(f\"Principal: {StudentKit.PrincipalName}\")\n",
    "\n",
    "name = input(\"Enter the student's name: \")\n",
    "student = StudentKit(name)\n",
    "\n",
    "days = int(input(\"Enter the number of days present in class: \"))\n",
    "student.Attendance(days)\n",
    "student.GetCertificate()\n"
   ]
  },
  {
   "cell_type": "markdown",
   "metadata": {},
   "source": [
    "### 09) Define Time class with hour and minute as data member. Also define addition method to add two time objects."
   ]
  },
  {
   "cell_type": "code",
   "execution_count": 7,
   "metadata": {},
   "outputs": [
    {
     "name": "stdout",
     "output_type": "stream",
     "text": [
      "Hour : 12 Minute: 34\n",
      "Hour : 3 Minute: 45\n",
      "Hour : 16 Minute: 19\n"
     ]
    }
   ],
   "source": [
    "class Time : \n",
    "    hour = 0\n",
    "    minute = 0\n",
    "\n",
    "    def __init__(self,h,m):\n",
    "        self.hour = h\n",
    "        self.minute = m\n",
    "\n",
    "    def addTime(self,t1,t2):\n",
    "        self.hour = t1.hour + t2.hour\n",
    "        self.minute = t1.minute + t2.minute\n",
    "\n",
    "        if (self.minute >= 60):\n",
    "            self.hour += self.minute // 60\n",
    "            self.minute = self.minute % 60\n",
    "\n",
    "    def display(self):\n",
    "        print(f\"Hour : {self.hour} Minute: {self.minute}\")\n",
    "\n",
    "t1 = Time(12,34)\n",
    "t2 = Time(3,45)\n",
    "t3 = Time(0,0)\n",
    "\n",
    "t3.addTime(t1,t2)\n",
    "t1.display()\n",
    "t2.display()\n",
    "t3.display()"
   ]
  },
  {
   "cell_type": "code",
   "execution_count": null,
   "metadata": {},
   "outputs": [],
   "source": []
  }
 ],
 "metadata": {
  "kernelspec": {
   "display_name": "Python 3 (ipykernel)",
   "language": "python",
   "name": "python3"
  },
  "language_info": {
   "codemirror_mode": {
    "name": "ipython",
    "version": 3
   },
   "file_extension": ".py",
   "mimetype": "text/x-python",
   "name": "python",
   "nbconvert_exporter": "python",
   "pygments_lexer": "ipython3",
   "version": "3.13.1"
  }
 },
 "nbformat": 4,
 "nbformat_minor": 4
}
