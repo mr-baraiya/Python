{
 "cells": [
  {
   "cell_type": "markdown",
   "metadata": {},
   "source": [
    "<a href='https://www.darshan.ac.in/'> <img src='https://www.darshan.ac.in/Content/media/DU_Logo.svg' width=\"250\" height=\"300\"/></a>\n",
    "<pre>\n",
    "<center><b><h1>Python Programming - 2301CS404</b></center>\n",
    "<center><b><h1>Lab - 13</b></center>    \n",
    "<center><b><h1>223 | Vishal Baraiya | 23010101014</b></center>  \n",
    "<pre>"
   ]
  },
  {
   "cell_type": "markdown",
   "metadata": {},
   "source": [
    "## Continued.."
   ]
  },
  {
   "cell_type": "markdown",
   "metadata": {},
   "source": [
    "### 10) Calculate area of a ractangle using object as an argument to a method."
   ]
  },
  {
   "cell_type": "code",
   "execution_count": 4,
   "metadata": {},
   "outputs": [
    {
     "name": "stdout",
     "output_type": "stream",
     "text": [
      "Area = 200\n"
     ]
    }
   ],
   "source": [
    "class Rectangle:\n",
    "    l = 0\n",
    "    b = 0\n",
    "\n",
    "    def __init__(self,l,b):\n",
    "        self.l = l\n",
    "        self.b = b\n",
    "\n",
    "\n",
    "def findArea(r : Rectangle):\n",
    "    return r.l * r.b\n",
    "\n",
    "r = Rectangle(10,20)\n",
    "print(f\"Area = {findArea(r)}\")\n"
   ]
  },
  {
   "cell_type": "markdown",
   "metadata": {},
   "source": [
    "### 11) Calculate the area of a square. \n",
    "### Include a Constructor, a method to calculate area named area() and a method named output() that prints the output and is invoked by area()."
   ]
  },
  {
   "cell_type": "code",
   "execution_count": 5,
   "metadata": {},
   "outputs": [
    {
     "name": "stdout",
     "output_type": "stream",
     "text": [
      "Area : 100\n"
     ]
    }
   ],
   "source": [
    "class square:\n",
    "    l = 0\n",
    "    a = 0\n",
    "\n",
    "    def __init__(self,l):\n",
    "        self.l = l\n",
    "\n",
    "    def area(self):\n",
    "        self.a = self.l * self.l\n",
    "        self.output()\n",
    "\n",
    "    def output(self):\n",
    "        print(f\"Area : {self.a}\")\n",
    "\n",
    "s = square(10)\n",
    "s.area()"
   ]
  },
  {
   "cell_type": "markdown",
   "metadata": {},
   "source": [
    "### 12) Calculate the area of a rectangle. \n",
    "### Include a Constructor, a method to calculate area named area() and a method named output() that prints the output and is invoked by area().\n",
    "### Also define a class method that compares the two sides of reactangle. An object is instantiated only if the two sides are different; otherwise a message should be displayed : THIS IS SQUARE."
   ]
  },
  {
   "cell_type": "code",
   "execution_count": 14,
   "metadata": {},
   "outputs": [
    {
     "name": "stdout",
     "output_type": "stream",
     "text": [
      "Area : 72\n"
     ]
    }
   ],
   "source": [
    "class Rectangle:\n",
    "    length = 0\n",
    "    breath = 0\n",
    "    \n",
    "    def __init__(self,length,breath):\n",
    "        self.length = length\n",
    "        self.breath = breath\n",
    "\n",
    "    @classmethod\n",
    "    def compare(cls,l,b):\n",
    "        if l==b:\n",
    "            print(\"THIS IS SQAURE.\")\n",
    "            return None\n",
    "        else:\n",
    "            return Rectangle(l,b)\n",
    "                    \n",
    "    def area(self):\n",
    "        self.area = self.length * self.breath\n",
    "        self.output(self.area)\n",
    "\n",
    "    def output(self,ans):\n",
    "        print(f\"Area : {ans}\")\n",
    "\n",
    "r1=Rectangle.compare(9,8)\n",
    "if r1:\n",
    "    r1.area()\n",
    "        "
   ]
  },
  {
   "cell_type": "markdown",
   "metadata": {},
   "source": [
    "### 13) Define a class Square having a private attribute \"side\". \n",
    "### Implement get_side and set_side methods to accees the private attribute from outside of the class."
   ]
  },
  {
   "cell_type": "code",
   "execution_count": 15,
   "metadata": {},
   "outputs": [
    {
     "name": "stdout",
     "output_type": "stream",
     "text": [
      "12\n"
     ]
    }
   ],
   "source": [
    "class squre:\n",
    "    _side = 0\n",
    "\n",
    "    def set_side(self,side):\n",
    "        self._side = side\n",
    "        \n",
    "    def get_side(self):\n",
    "        return self._side\n",
    "\n",
    "s = squre()\n",
    "s.set_side(12)\n",
    "print(s.get_side())"
   ]
  },
  {
   "cell_type": "markdown",
   "metadata": {},
   "source": [
    "### 14) Create a class Profit that has a method named getProfit that accepts profit from the user.\n",
    "### Create a class Loss that has a method named getLoss that accepts loss from the user.\n",
    "### Create a class BalanceSheet that inherits from both classes Profit and Loss and calculates the balanace. It has two methods getBalance() and printBalance()."
   ]
  },
  {
   "cell_type": "code",
   "execution_count": 4,
   "metadata": {},
   "outputs": [
    {
     "name": "stdin",
     "output_type": "stream",
     "text": [
      "Enter Your Profit :  1000\n",
      "Enter Your Loss :  500\n"
     ]
    },
    {
     "name": "stdout",
     "output_type": "stream",
     "text": [
      "Balance = 500\n"
     ]
    }
   ],
   "source": [
    "class Profit:\n",
    "    \n",
    "    def getProfit(self):\n",
    "        self.profit = int(input(\"Enter Your Profit : \"))\n",
    "\n",
    "class Loss:\n",
    "    \n",
    "    def getLoss(self):\n",
    "        self.loss = int(input(\"Enter Your Loss : \"))\n",
    "\n",
    "class BalanceSheet(Profit,Loss):\n",
    "\n",
    "    def getBalance(self):\n",
    "        self.balance = self.profit - self.loss\n",
    "\n",
    "    def printBalance(self):\n",
    "        print(f\"Balance = {self.balance}\")\n",
    "\n",
    "a = BalanceSheet()\n",
    "\n",
    "a.getProfit()\n",
    "a.getLoss()\n",
    "a.getBalance()\n",
    "a.printBalance()"
   ]
  },
  {
   "attachments": {},
   "cell_type": "markdown",
   "metadata": {},
   "source": [
    "### 15) WAP to demonstrate all types of inheritance."
   ]
  },
  {
   "cell_type": "code",
   "execution_count": 3,
   "metadata": {},
   "outputs": [
    {
     "name": "stdout",
     "output_type": "stream",
     "text": [
      "Single Inheritance:\n",
      "Animal makes sound\n",
      "Dog barks\n",
      "\n",
      "Multiple Inheritance:\n",
      "Father's name is John\n",
      "Mother's name is Mary\n",
      "Child's name is Sam\n",
      "\n",
      "Multilevel Inheritance:\n",
      "Grandparent's name is George\n",
      "Parent's name is Henry\n",
      "Child's name is Lisa\n",
      "\n",
      "Hierarchical Inheritance:\n",
      "This is a vehicle\n",
      "This is a car\n",
      "This is a vehicle\n",
      "This is a bike\n",
      "\n",
      "Hybrid Inheritance:\n",
      "Method from class A\n",
      "Method from class B\n",
      "Method from class C\n",
      "Method from class D\n"
     ]
    }
   ],
   "source": [
    "# 1. Single Inheritance\n",
    "class Animal:\n",
    "    def sound(self):\n",
    "        print(\"Animal makes sound\")\n",
    "\n",
    "class Dog(Animal):\n",
    "    def bark(self):\n",
    "        print(\"Dog barks\")\n",
    "\n",
    "# 2. Multiple Inheritance\n",
    "class Father:\n",
    "    def father_name(self):\n",
    "        print(\"Father's name is John\")\n",
    "\n",
    "class Mother:\n",
    "    def mother_name(self):\n",
    "        print(\"Mother's name is Mary\")\n",
    "\n",
    "class Child(Father, Mother):\n",
    "    def child_name(self):\n",
    "        print(\"Child's name is Sam\")\n",
    "\n",
    "# 3. Multilevel Inheritance\n",
    "class Grandparent:\n",
    "    def grandparent_name(self):\n",
    "        print(\"Grandparent's name is George\")\n",
    "\n",
    "class Parent(Grandparent):\n",
    "    def parent_name(self):\n",
    "        print(\"Parent's name is Henry\")\n",
    "\n",
    "class ChildOfParent(Parent):\n",
    "    def child_name(self):\n",
    "        print(\"Child's name is Lisa\")\n",
    "\n",
    "# 4. Hierarchical Inheritance\n",
    "class Vehicle:\n",
    "    def type_of_vehicle(self):\n",
    "        print(\"This is a vehicle\")\n",
    "\n",
    "class Car(Vehicle):\n",
    "    def car_type(self):\n",
    "        print(\"This is a car\")\n",
    "\n",
    "class Bike(Vehicle):\n",
    "    def bike_type(self):\n",
    "        print(\"This is a bike\")\n",
    "\n",
    "# 5. Hybrid Inheritance (Combination of Multiple and Multilevel)\n",
    "class A:\n",
    "    def method_a(self):\n",
    "        print(\"Method from class A\")\n",
    "\n",
    "class B(A):\n",
    "    def method_b(self):\n",
    "        print(\"Method from class B\")\n",
    "\n",
    "class C:\n",
    "    def method_c(self):\n",
    "        print(\"Method from class C\")\n",
    "\n",
    "class D(B, C):\n",
    "    def method_d(self):\n",
    "        print(\"Method from class D\")\n",
    "\n",
    "\n",
    "# Demonstrating Single Inheritance\n",
    "print(\"Single Inheritance:\")\n",
    "dog = Dog()\n",
    "dog.sound()  # Inherited method\n",
    "dog.bark()   # Class method\n",
    "\n",
    "# Demonstrating Multiple Inheritance\n",
    "print(\"\\nMultiple Inheritance:\")\n",
    "child = Child()\n",
    "child.father_name()  # Method from Father class\n",
    "child.mother_name()  # Method from Mother class\n",
    "child.child_name()   # Method from Child class\n",
    "\n",
    "# Demonstrating Multilevel Inheritance\n",
    "print(\"\\nMultilevel Inheritance:\")\n",
    "child_of_parent = ChildOfParent()\n",
    "child_of_parent.grandparent_name()  # Inherited method from Grandparent\n",
    "child_of_parent.parent_name()       # Inherited method from Parent\n",
    "child_of_parent.child_name()        # Method from ChildOfParent\n",
    "\n",
    "# Demonstrating Hierarchical Inheritance\n",
    "print(\"\\nHierarchical Inheritance:\")\n",
    "car = Car()\n",
    "car.type_of_vehicle()  # Inherited from Vehicle\n",
    "car.car_type()         # Method from Car class\n",
    "\n",
    "bike = Bike()\n",
    "bike.type_of_vehicle()  # Inherited from Vehicle\n",
    "bike.bike_type()        # Method from Bike class\n",
    "\n",
    "# Demonstrating Hybrid Inheritance\n",
    "print(\"\\nHybrid Inheritance:\")\n",
    "d = D()\n",
    "d.method_a()  # Inherited from A\n",
    "d.method_b()  # Inherited from B\n",
    "d.method_c()  # Inherited from C\n",
    "d.method_d()  # Method from D class\n"
   ]
  },
  {
   "cell_type": "markdown",
   "metadata": {},
   "source": [
    "### 16) Create a Person class with a constructor that takes two arguments name and age. \n",
    "### Create a child class Employee that inherits from Person and adds a new attribute salary. \n",
    "### Override the __init__ method in Employee to call the parent class's __init__ method using the super() and then initialize the salary attribute."
   ]
  },
  {
   "cell_type": "code",
   "execution_count": 19,
   "metadata": {},
   "outputs": [
    {
     "name": "stdout",
     "output_type": "stream",
     "text": [
      "Name: Karan, Age: 30\n",
      "Salary: 60000\n"
     ]
    }
   ],
   "source": [
    "class Person:\n",
    "    def __init__(self, name, age):\n",
    "        self.name = name\n",
    "        self.age = age\n",
    "\n",
    "    def display(self):\n",
    "        print(f\"Name: {self.name}, Age: {self.age}\")\n",
    "\n",
    "class Employee(Person):\n",
    "    def __init__(self, name, age, salary):\n",
    "        super().__init__(name, age)\n",
    "        self.salary = salary\n",
    "\n",
    "    def display(self):\n",
    "        super().display()\n",
    "        print(f\"Salary: {self.salary}\")\n",
    "\n",
    "emp = Employee(\"Karan\", 30, 60000)\n",
    "emp.display()\n"
   ]
  },
  {
   "cell_type": "markdown",
   "metadata": {},
   "source": [
    "### 17) Create a Shape class with a draw method that is not implemented. \n",
    "### Create three child classes Rectangle, Circle, and Triangle that implement the draw method with their respective drawing behaviors. \n",
    "### Create a list of Shape objects that includes one instance of each child class, and then iterate through the list and call the draw method on each object."
   ]
  },
  {
   "cell_type": "code",
   "execution_count": 20,
   "metadata": {},
   "outputs": [
    {
     "name": "stdout",
     "output_type": "stream",
     "text": [
      "Drawing a Rectangle\n",
      "Drawing a Circle\n",
      "Drawing a Triangle\n"
     ]
    }
   ],
   "source": [
    "from abc import ABC, abstractmethod\n",
    "\n",
    "class Shape(ABC):\n",
    "    @abstractmethod\n",
    "    def draw(self):\n",
    "        pass\n",
    "\n",
    "class Rectangle(Shape):\n",
    "    def draw(self):\n",
    "        print(\"Drawing a Rectangle\")\n",
    "\n",
    "class Circle(Shape):\n",
    "    def draw(self):\n",
    "        print(\"Drawing a Circle\")\n",
    "\n",
    "class Triangle(Shape):\n",
    "    def draw(self):\n",
    "        print(\"Drawing a Triangle\")\n",
    "\n",
    "shapes = [Rectangle(), Circle(), Triangle()]\n",
    "\n",
    "for shape in shapes:\n",
    "    shape.draw()\n"
   ]
  },
  {
   "cell_type": "code",
   "execution_count": null,
   "metadata": {},
   "outputs": [],
   "source": []
  }
 ],
 "metadata": {
  "kernelspec": {
   "display_name": "Python 3 (ipykernel)",
   "language": "python",
   "name": "python3"
  },
  "language_info": {
   "codemirror_mode": {
    "name": "ipython",
    "version": 3
   },
   "file_extension": ".py",
   "mimetype": "text/x-python",
   "name": "python",
   "nbconvert_exporter": "python",
   "pygments_lexer": "ipython3",
   "version": "3.13.1"
  }
 },
 "nbformat": 4,
 "nbformat_minor": 4
}
