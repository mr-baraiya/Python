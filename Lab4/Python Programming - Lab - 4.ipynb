{
 "cells": [
  {
   "cell_type": "markdown",
   "metadata": {},
   "source": [
    "\n",
    "<a href='https://www.darshan.ac.in/'> <img src='https://www.darshan.ac.in/Content/media/DU_Logo.svg' width=\"250\" height=\"300\"/></a>\n",
    "<pre>\n",
    "<center><b><h1>Python Programming - 2301CS404</b></center>\n",
    "<center><b><h1>Lab - 4</b></center>  \n",
    "<center><b><h1>223 | Vishal Baraiya | 23010101014</b></center>    \n",
    "<pre>"
   ]
  },
  {
   "cell_type": "markdown",
   "metadata": {},
   "source": [
    "# String"
   ]
  },
  {
   "cell_type": "markdown",
   "metadata": {},
   "source": [
    "### 01) WAP to check whether the given string is palindrome or not."
   ]
  },
  {
   "cell_type": "code",
   "execution_count": 71,
   "metadata": {},
   "outputs": [
    {
     "name": "stdin",
     "output_type": "stream",
     "text": [
      "Enter the String :  Nayan\n"
     ]
    },
    {
     "name": "stdout",
     "output_type": "stream",
     "text": [
      "Nayan is a Palindrome String.\n"
     ]
    }
   ],
   "source": [
    "s = input(\"Enter the String : \")\n",
    "if (s.lower() == s[::-1].lower()):\n",
    "    print(f\"{s} is a Palindrome String.\")\n",
    "else:\n",
    "    print(f\"{s} is Not a Palindrome String.\") "
   ]
  },
  {
   "cell_type": "markdown",
   "metadata": {},
   "source": [
    "### 02) WAP to reverse the words in the given string."
   ]
  },
  {
   "cell_type": "code",
   "execution_count": 72,
   "metadata": {},
   "outputs": [
    {
     "name": "stdin",
     "output_type": "stream",
     "text": [
      "Enter the String :  Vishal Baraiya From Botad\n"
     ]
    },
    {
     "name": "stdout",
     "output_type": "stream",
     "text": [
      "Botad From Baraiya Vishal\n"
     ]
    }
   ],
   "source": [
    "s = input(\"Enter the String : \")\n",
    "new = s.split(\" \");\n",
    "s  = \" \".join(new[::-1])\n",
    "print(s)"
   ]
  },
  {
   "cell_type": "markdown",
   "metadata": {},
   "source": [
    "### 03) WAP to remove ith character from given string."
   ]
  },
  {
   "cell_type": "code",
   "execution_count": 73,
   "metadata": {},
   "outputs": [
    {
     "name": "stdin",
     "output_type": "stream",
     "text": [
      "Enter the String :  Karan\n",
      "Enter the i :  4\n"
     ]
    },
    {
     "name": "stdout",
     "output_type": "stream",
     "text": [
      "Karan is after removeing 4th Character is = Karn\n"
     ]
    }
   ],
   "source": [
    "s = input(\"Enter the String : \")\n",
    "i = int(input(\"Enter the i : \"))\n",
    "\n",
    "if 0 < i <= len(s):\n",
    "    words = s[:i-1]+s[i:]\n",
    "    \n",
    "print(f\"{s} is after removeing {i}th Character is = {words}\")"
   ]
  },
  {
   "cell_type": "markdown",
   "metadata": {},
   "source": [
    "### 04) WAP to find length of string without using len function."
   ]
  },
  {
   "cell_type": "code",
   "execution_count": 74,
   "metadata": {},
   "outputs": [
    {
     "name": "stdin",
     "output_type": "stream",
     "text": [
      "Enter the String :  Vishal\n"
     ]
    },
    {
     "name": "stdout",
     "output_type": "stream",
     "text": [
      "Length of Vishal = 6\n"
     ]
    }
   ],
   "source": [
    "s = input(\"Enter the String : \")\n",
    "count = 0\n",
    "for i in s:\n",
    "    count += 1\n",
    "\n",
    "print(f\"Length of {s} = {count}\")"
   ]
  },
  {
   "cell_type": "markdown",
   "metadata": {},
   "source": [
    "### 05) WAP to print even length word in string."
   ]
  },
  {
   "cell_type": "code",
   "execution_count": 75,
   "metadata": {},
   "outputs": [
    {
     "name": "stdin",
     "output_type": "stream",
     "text": [
      "Enter the String :  Vishal V Baraiya\n"
     ]
    },
    {
     "name": "stdout",
     "output_type": "stream",
     "text": [
      "Vishal\n"
     ]
    }
   ],
   "source": [
    "s = input(\"Enter the String : \")\n",
    "words = s.split()\n",
    "for i in words:\n",
    "    if (len(i) % 2 == 0):\n",
    "        print(i)\n",
    "    else:\n",
    "        pass"
   ]
  },
  {
   "cell_type": "markdown",
   "metadata": {},
   "source": [
    "### 06) WAP to count numbers of vowels in given string."
   ]
  },
  {
   "cell_type": "code",
   "execution_count": 77,
   "metadata": {},
   "outputs": [
    {
     "name": "stdin",
     "output_type": "stream",
     "text": [
      "Enter the String :  Vishal\n"
     ]
    },
    {
     "name": "stdout",
     "output_type": "stream",
     "text": [
      "Total Vowels in vishal = 2\n"
     ]
    }
   ],
   "source": [
    "s = input(\"Enter the String : \")\n",
    "s = s.lower()\n",
    "vowels = ['a','e','i','o','u']\n",
    "count = 0\n",
    "for i in s:\n",
    "    if i in vowels:\n",
    "        count += 1\n",
    "    else:\n",
    "        pass\n",
    "print(f\"Total Vowels in {s} = {count}\")\n",
    "\n",
    "# if s.count('a'):\n",
    "#     print(\"Count Of A = \",s.count('a'))\n",
    "# if s.count('e'):\n",
    "#     print(\"Count Of E = \",s.count('e'))\n",
    "# if s.count('i'):\n",
    "#     print(\"Count Of I = \",s.count('i'))\n",
    "# if s.count('o'):\n",
    "#     print(\"Count Of O = \",s.count('o'))\n",
    "# if s.count('u'):\n",
    "#     print(\"Count Of U = \",s.count('u'))"
   ]
  },
  {
   "cell_type": "markdown",
   "metadata": {},
   "source": [
    "### 07) WAP to capitalize the first and last character of each word in a string."
   ]
  },
  {
   "cell_type": "code",
   "execution_count": 12,
   "metadata": {},
   "outputs": [
    {
     "name": "stdin",
     "output_type": "stream",
     "text": [
      "Enter the String :  WelCome To hOme\n"
     ]
    },
    {
     "name": "stdout",
     "output_type": "stream",
     "text": [
      "WelcomE TO HomE\n"
     ]
    }
   ],
   "source": [
    "s = input(\"Enter the String : \")\n",
    "list = s.split()\n",
    "res = []\n",
    "for i in list:\n",
    "    res.append(i[0].upper()+i[1:-1].lower()+i[-1].upper())\n",
    "\n",
    "res = \" \".join(res)\n",
    "print(res)"
   ]
  },
  {
   "cell_type": "markdown",
   "metadata": {},
   "source": [
    "### 08) WAP to convert given array to string."
   ]
  },
  {
   "cell_type": "code",
   "execution_count": 79,
   "metadata": {},
   "outputs": [],
   "source": [
    "del str"
   ]
  },
  {
   "cell_type": "code",
   "execution_count": 80,
   "metadata": {},
   "outputs": [
    {
     "name": "stdout",
     "output_type": "stream",
     "text": [
      "1,2,3,4,5\n"
     ]
    }
   ],
   "source": [
    "num_list = [1, 2, 3, 4, 5]\n",
    "result = \",\".join(str(num) for num in num_list)  \n",
    "print(result)"
   ]
  },
  {
   "cell_type": "markdown",
   "metadata": {},
   "source": [
    "### 09) Check if the password and confirm password is same or not. \n",
    "### In case of only case's mistake, show the error message."
   ]
  },
  {
   "cell_type": "code",
   "execution_count": 41,
   "metadata": {},
   "outputs": [
    {
     "name": "stdin",
     "output_type": "stream",
     "text": [
      "Enter the Password :  Random$1234\n",
      "Enter the Password :  Random$1234\n"
     ]
    },
    {
     "name": "stdout",
     "output_type": "stream",
     "text": [
      "Successfully Matched.\n"
     ]
    }
   ],
   "source": [
    "password = input(\"Enter the Password : \")\n",
    "confirmPassword = input(\"Enter the Password : \")\n",
    "\n",
    "if(password == confirmPassword):\n",
    "    print(\"Successfully Matched.\")\n",
    "elif (password.lower() == confirmPassword.lower()):\n",
    "    print(\"Check in your case.\")\n",
    "else:\n",
    "    print(\"Password Does Not Matched\")"
   ]
  },
  {
   "cell_type": "markdown",
   "metadata": {},
   "source": [
    "### 10) : Display credit card number. \n",
    "### card no. : 1234 5678 9012 3456\n",
    "### display as  : **** **** **** 3456"
   ]
  },
  {
   "cell_type": "code",
   "execution_count": 57,
   "metadata": {},
   "outputs": [
    {
     "name": "stdout",
     "output_type": "stream",
     "text": [
      " **** **** **** 3456\n"
     ]
    }
   ],
   "source": [
    "card_no = \"1234 5678 9012 3456\"\n",
    "first = card_no[0:len(card_no)-4:]\n",
    "last = card_no[len(card_no)-4::]\n",
    "res = \" \"\n",
    "for i in first:\n",
    "    if(i.isdigit()):\n",
    "        res += \"*\"\n",
    "    else:\n",
    "        res += \" \"\n",
    "        \n",
    "res = res + last\n",
    "print(res)"
   ]
  },
  {
   "cell_type": "markdown",
   "metadata": {},
   "source": [
    "### 11) : Checking if the two strings are Anagram or not.\n",
    "### s1 = decimal and s2 = medical are Anagram"
   ]
  },
  {
   "cell_type": "code",
   "execution_count": 69,
   "metadata": {},
   "outputs": [
    {
     "name": "stdin",
     "output_type": "stream",
     "text": [
      "Enter the str1 :  Medical\n",
      "Enter the str2 :  decimal\n"
     ]
    },
    {
     "name": "stdout",
     "output_type": "stream",
     "text": [
      "Silent and Lisent is Anagram\n"
     ]
    }
   ],
   "source": [
    "string1 = input(\"Enter the str1 : \") # \"decimal\"\n",
    "string2 = input(\"Enter the str2 : \") # \"medical\"\n",
    "string1 = string1.replace(\" \", \"\").lower()\n",
    "string2 = string2.replace(\" \", \"\").lower()\n",
    "if sorted(string1) == sorted(string2):\n",
    "    print(f\"{s1} and {s2} is Anagram\") \n",
    "else:\n",
    "    print(f\"{s1} and {s2} is Not a Anagram\")"
   ]
  },
  {
   "cell_type": "markdown",
   "metadata": {},
   "source": [
    "### 12) : Rearrange the given string. First lowercase then uppercase alphabets.\n",
    "### input : EHlsarwiwhtwMV\n",
    "### output : lsarwiwhtwEHMV"
   ]
  },
  {
   "cell_type": "code",
   "execution_count": 83,
   "metadata": {},
   "outputs": [
    {
     "name": "stdin",
     "output_type": "stream",
     "text": [
      "Enter the String :  Vishal Baraiya Botad\n"
     ]
    },
    {
     "name": "stdout",
     "output_type": "stream",
     "text": [
      "ishalaraiyaotadVBB\n"
     ]
    }
   ],
   "source": [
    "s = input(\"Enter the String : \")\n",
    "lower = \"\"\n",
    "upper = \"\"\n",
    "for i in s:\n",
    "    if i.isupper():\n",
    "        upper = upper + i\n",
    "    elif i.islower():\n",
    "        lower = lower + i\n",
    "s = lower + upper\n",
    "print(s)"
   ]
  }
 ],
 "metadata": {
  "kernelspec": {
   "display_name": "Python 3 (ipykernel)",
   "language": "python",
   "name": "python3"
  },
  "language_info": {
   "codemirror_mode": {
    "name": "ipython",
    "version": 3
   },
   "file_extension": ".py",
   "mimetype": "text/x-python",
   "name": "python",
   "nbconvert_exporter": "python",
   "pygments_lexer": "ipython3",
   "version": "3.13.1"
  },
  "vscode": {
   "interpreter": {
    "hash": "31f2aee4e71d21fbe5cf8b01ff0e069b9275f58929596ceb00d14d90e3e16cd6"
   }
  }
 },
 "nbformat": 4,
 "nbformat_minor": 4
}
