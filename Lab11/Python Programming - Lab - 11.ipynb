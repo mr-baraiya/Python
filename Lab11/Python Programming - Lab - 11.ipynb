{
 "cells": [
  {
   "attachments": {},
   "cell_type": "markdown",
   "metadata": {},
   "source": [
    "<a href='https://www.darshan.ac.in/'> <img src='https://www.darshan.ac.in/Content/media/DU_Logo.svg' width=\"250\" height=\"300\"/></a>\n",
    "<pre>\n",
    "<center><b><h1>Python Programming - 2301CS404</b></center>\n",
    "<center><b><h1>Lab - 11</b></center>\n",
    "<center><b><h1>223 | Vishal Baraiya | 23010101014</b></center>\n",
    "<pre>"
   ]
  },
  {
   "cell_type": "markdown",
   "metadata": {},
   "source": [
    "# Modules"
   ]
  },
  {
   "cell_type": "markdown",
   "metadata": {},
   "source": [
    "### 01) WAP to create Calculator module which defines functions like add, sub,mul and div. \n",
    "### Create another .py file that uses the functions available in Calculator module."
   ]
  },
  {
   "cell_type": "code",
   "execution_count": 1,
   "metadata": {},
   "outputs": [
    {
     "name": "stdin",
     "output_type": "stream",
     "text": [
      "Enter the First Number :  10\n",
      "Enter the Second Number :  5\n"
     ]
    },
    {
     "name": "stdout",
     "output_type": "stream",
     "text": [
      "10 + 5 = 15\n",
      "10 - 5 = 5\n",
      "10 * 5 = 50\n",
      "10 / 5 = 2.0\n"
     ]
    }
   ],
   "source": [
    "import Calculator\n",
    "n1 = int(input(\"Enter the First Number : \"))\n",
    "n2 = int(input(\"Enter the Second Number : \"))\n",
    "\n",
    "print(f\"{n1} + {n2} = {Calculator.add(n1,n2)}\")\n",
    "print(f\"{n1} - {n2} = {Calculator.sub(n1,n2)}\")\n",
    "print(f\"{n1} * {n2} = {Calculator.mul(n1,n2)}\")\n",
    "print(f\"{n1} / {n2} = {Calculator.div(n1,n2)}\")"
   ]
  },
  {
   "cell_type": "markdown",
   "metadata": {},
   "source": [
    "### 02) WAP to pick a random character from a given String."
   ]
  },
  {
   "cell_type": "code",
   "execution_count": 3,
   "metadata": {},
   "outputs": [
    {
     "name": "stdin",
     "output_type": "stream",
     "text": [
      "Enter String :  Vishal\n"
     ]
    },
    {
     "name": "stdout",
     "output_type": "stream",
     "text": [
      "i\n"
     ]
    }
   ],
   "source": [
    "import random\n",
    "s = input(\"Enter String : \")\n",
    "ch = random.choice(s)\n",
    "print(ch)"
   ]
  },
  {
   "cell_type": "markdown",
   "metadata": {},
   "source": [
    "### 03) WAP to pick a random element from a given list."
   ]
  },
  {
   "cell_type": "code",
   "execution_count": 7,
   "metadata": {},
   "outputs": [
    {
     "name": "stdout",
     "output_type": "stream",
     "text": [
      "2\n"
     ]
    }
   ],
   "source": [
    "l = [1,2,3,4,5,6,7,8,9,10]\n",
    "n = random.choice(l)\n",
    "print(n)"
   ]
  },
  {
   "cell_type": "markdown",
   "metadata": {},
   "source": [
    "### 04) WAP to roll a dice in such a way that every time you get the same number."
   ]
  },
  {
   "cell_type": "code",
   "execution_count": 22,
   "metadata": {},
   "outputs": [
    {
     "name": "stdout",
     "output_type": "stream",
     "text": [
      "2\n",
      "2\n",
      "2\n"
     ]
    }
   ],
   "source": [
    "import random\n",
    "\n",
    "def roll_dice():\n",
    "    random.seed(1)\n",
    "    return random.randint(1,6)\n",
    "\n",
    "print(roll_dice())\n",
    "print(roll_dice())\n",
    "print(roll_dice())"
   ]
  },
  {
   "cell_type": "markdown",
   "metadata": {},
   "source": [
    "### 05) WAP to generate 3 random integers between 100 and 999 which is divisible by 5."
   ]
  },
  {
   "cell_type": "code",
   "execution_count": 27,
   "metadata": {},
   "outputs": [
    {
     "name": "stdout",
     "output_type": "stream",
     "text": [
      "730\n",
      "675\n",
      "700\n"
     ]
    }
   ],
   "source": [
    "import random\n",
    "for i in range(1,4):\n",
    "    n = random.randrange(100,999,5)\n",
    "    print(n)"
   ]
  },
  {
   "cell_type": "markdown",
   "metadata": {},
   "source": [
    "### 06) WAP to generate 100 random lottery tickets and pick two lucky tickets from it and announce them as Winner and Runner up respectively."
   ]
  },
  {
   "cell_type": "code",
   "execution_count": 42,
   "metadata": {},
   "outputs": [
    {
     "name": "stdout",
     "output_type": "stream",
     "text": [
      "Winner is : 49\n",
      "Runner up is : 88\n"
     ]
    }
   ],
   "source": [
    "import random\n",
    "l = [i for i in range(1,101)]\n",
    "\n",
    "print(f\"Winner is : {random.choice(l)}\")\n",
    "print(f\"Runner up is : {random.choice(l)}\")"
   ]
  },
  {
   "cell_type": "markdown",
   "metadata": {},
   "source": [
    "### 07) WAP to print current date and time in Python."
   ]
  },
  {
   "cell_type": "code",
   "execution_count": 46,
   "metadata": {},
   "outputs": [
    {
     "name": "stdout",
     "output_type": "stream",
     "text": [
      "Current Time : 2025-02-10 13:03:56.890116\n"
     ]
    }
   ],
   "source": [
    "import datetime\n",
    "\n",
    "print(f\"Current Time : {datetime.datetime.now()}\")"
   ]
  },
  {
   "cell_type": "markdown",
   "metadata": {},
   "source": [
    "### 08) Subtract a week (7 days) from a given date in Python."
   ]
  },
  {
   "cell_type": "code",
   "execution_count": 48,
   "metadata": {},
   "outputs": [
    {
     "name": "stdout",
     "output_type": "stream",
     "text": [
      "2025-02-03 13:10:03.039109\n"
     ]
    }
   ],
   "source": [
    "import datetime\n",
    "\n",
    "d = datetime.datetime.now()\n",
    "df = d - datetime.timedelta(days=7)\n",
    "print(df)"
   ]
  },
  {
   "cell_type": "markdown",
   "metadata": {},
   "source": [
    "### 09) WAP to Calculate number of days between two given dates."
   ]
  },
  {
   "cell_type": "code",
   "execution_count": 53,
   "metadata": {},
   "outputs": [
    {
     "name": "stdin",
     "output_type": "stream",
     "text": [
      "Enter the Date (dd-mm-yyyy) :  10-2-2025\n",
      "Enter the Date (dd-mm-yyyy) :  2-4-2006\n"
     ]
    },
    {
     "name": "stdout",
     "output_type": "stream",
     "text": [
      "6889\n"
     ]
    }
   ],
   "source": [
    "s1 = input(\"Enter the Date (dd-mm-yyyy) : \")\n",
    "s2 = input(\"Enter the Date (dd-mm-yyyy) : \")\n",
    "\n",
    "d1 = datetime.datetime.strptime(s1,\"%d-%m-%Y\")\n",
    "d2 = datetime.datetime.strptime(s2,\"%d-%m-%Y\")\n",
    "\n",
    "print(abs(d1-d2).days)"
   ]
  },
  {
   "cell_type": "markdown",
   "metadata": {},
   "source": [
    "### 10) WAP to Find the day of the week of a given date.(i.e. wether it is sunday/monday/tuesday/etc.)"
   ]
  },
  {
   "cell_type": "code",
   "execution_count": 56,
   "metadata": {},
   "outputs": [
    {
     "name": "stdin",
     "output_type": "stream",
     "text": [
      "Enter the Date (dd-mm-yyyy) :  10-02-2025\n"
     ]
    },
    {
     "name": "stdout",
     "output_type": "stream",
     "text": [
      "Monday\n"
     ]
    }
   ],
   "source": [
    "s = input(\"Enter the Date (dd-mm-yyyy) : \")\n",
    "d = datetime.datetime.strptime(s,\"%d-%m-%Y\")\n",
    "\n",
    "s = d.strftime(\"%A\")\n",
    "print(s)"
   ]
  },
  {
   "cell_type": "markdown",
   "metadata": {},
   "source": [
    "### 11) WAP to demonstrate the use of date time module."
   ]
  },
  {
   "cell_type": "code",
   "execution_count": 57,
   "metadata": {},
   "outputs": [
    {
     "name": "stdout",
     "output_type": "stream",
     "text": [
      "Current Date and Time: 2025-02-10 13:30:23.860156\n",
      "Current Date: 2025-02-10\n",
      "Specific Date: 2025-02-10\n",
      "Year: 2025\n",
      "Month: 2\n",
      "Day: 10\n",
      "Date after 10 days: 2025-02-20\n",
      "Formatted Date and Time: 2025-02-10 13:30:23\n",
      "Parsed Date and Time: 2025-02-10 15:30:00\n"
     ]
    }
   ],
   "source": [
    "import datetime\n",
    "\n",
    "# Get the current date and time\n",
    "current_datetime = datetime.datetime.now()\n",
    "print(\"Current Date and Time:\", current_datetime)\n",
    "\n",
    "# Get the current date\n",
    "current_date = datetime.date.today()\n",
    "print(\"Current Date:\", current_date)\n",
    "\n",
    "# Create a specific date\n",
    "specific_date = datetime.date(2025, 2, 10)\n",
    "print(\"Specific Date:\", specific_date)\n",
    "\n",
    "# Get individual components\n",
    "print(\"Year:\", current_date.year)\n",
    "print(\"Month:\", current_date.month)\n",
    "print(\"Day:\", current_date.day)\n",
    "\n",
    "# Time delta example (difference between dates)\n",
    "delta = datetime.timedelta(days=10)\n",
    "future_date = current_date + delta\n",
    "print(\"Date after 10 days:\", future_date)\n",
    "\n",
    "# Formatting date and time\n",
    "formatted_datetime = current_datetime.strftime(\"%Y-%m-%d %H:%M:%S\")\n",
    "print(\"Formatted Date and Time:\", formatted_datetime)\n",
    "\n",
    "# Parsing a date string\n",
    "date_string = \"2025-02-10 15:30:00\"\n",
    "parsed_date = datetime.datetime.strptime(date_string, \"%Y-%m-%d %H:%M:%S\")\n",
    "print(\"Parsed Date and Time:\", parsed_date)\n"
   ]
  },
  {
   "cell_type": "markdown",
   "metadata": {},
   "source": [
    "### 12) WAP to demonstrate the use of the math module."
   ]
  },
  {
   "cell_type": "code",
   "execution_count": 58,
   "metadata": {},
   "outputs": [
    {
     "name": "stdout",
     "output_type": "stream",
     "text": [
      "Square root of 16 is 4.0\n",
      "Factorial of 5 is 120\n",
      "2 raised to the power of 3 is 8.0\n",
      "Sine of 30 degrees: 0.49999999999999994\n",
      "Cosine of 30 degrees: 0.8660254037844387\n",
      "Tangent of 30 degrees: 0.5773502691896257\n",
      "Natural logarithm of 100 is 4.605170185988092\n",
      "Base-10 logarithm of 100 is 2.0\n",
      "Value of Pi: 3.141592653589793\n",
      "Value of Euler's number (e): 2.718281828459045\n"
     ]
    }
   ],
   "source": [
    "import math\n",
    "\n",
    "# Square root\n",
    "num = 16\n",
    "print(\"Square root of\", num, \"is\", math.sqrt(num))\n",
    "\n",
    "# Factorial\n",
    "num = 5\n",
    "print(\"Factorial of\", num, \"is\", math.factorial(num))\n",
    "\n",
    "# Power\n",
    "base = 2\n",
    "exp = 3\n",
    "print(base, \"raised to the power of\", exp, \"is\", math.pow(base, exp))\n",
    "\n",
    "# Trigonometric functions\n",
    "angle = math.radians(30)  # Convert degrees to radians\n",
    "print(\"Sine of 30 degrees:\", math.sin(angle))\n",
    "print(\"Cosine of 30 degrees:\", math.cos(angle))\n",
    "print(\"Tangent of 30 degrees:\", math.tan(angle))\n",
    "\n",
    "# Logarithm\n",
    "num = 100\n",
    "print(\"Natural logarithm of\", num, \"is\", math.log(num))\n",
    "print(\"Base-10 logarithm of\", num, \"is\", math.log10(num))\n",
    "\n",
    "# Constants\n",
    "print(\"Value of Pi:\", math.pi)\n",
    "print(\"Value of Euler's number (e):\", math.e)\n"
   ]
  },
  {
   "cell_type": "code",
   "execution_count": null,
   "metadata": {},
   "outputs": [],
   "source": []
  }
 ],
 "metadata": {
  "kernelspec": {
   "display_name": "Python 3 (ipykernel)",
   "language": "python",
   "name": "python3"
  },
  "language_info": {
   "codemirror_mode": {
    "name": "ipython",
    "version": 3
   },
   "file_extension": ".py",
   "mimetype": "text/x-python",
   "name": "python",
   "nbconvert_exporter": "python",
   "pygments_lexer": "ipython3",
   "version": "3.13.1"
  }
 },
 "nbformat": 4,
 "nbformat_minor": 4
}
