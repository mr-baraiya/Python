{
 "cells": [
  {
   "cell_type": "markdown",
   "metadata": {},
   "source": [
    "\n",
    "<a href='https://www.darshan.ac.in/'> <img src='https://www.darshan.ac.in/Content/media/DU_Logo.svg' width=\"250\" height=\"300\"/></a>\n",
    "<pre>\n",
    "<center><b><h1>Python Programming - 2301CS404</b></center>\n",
    "<center><b><h1>Lab - 2</b></center> \n",
    "<center><b><h1>223 | Vishal Baraiya | 23010101014</b></center>  \n",
    "<pre>"
   ]
  },
  {
   "cell_type": "markdown",
   "metadata": {},
   "source": [
    "# if..else.."
   ]
  },
  {
   "cell_type": "markdown",
   "metadata": {},
   "source": [
    "### 01) WAP to check whether the given number is positive or negative."
   ]
  },
  {
   "cell_type": "code",
   "execution_count": 2,
   "metadata": {},
   "outputs": [
    {
     "name": "stdin",
     "output_type": "stream",
     "text": [
      "Enter the number :  -9\n"
     ]
    },
    {
     "name": "stdout",
     "output_type": "stream",
     "text": [
      "n is negative\n"
     ]
    }
   ],
   "source": [
    "n = int(input(\"Enter the number : \"))\n",
    "if n>0 :\n",
    "    print(\"n is Positive\")\n",
    "elif n==0:\n",
    "    print (\"n is Zero\")\n",
    "else:\n",
    "    print(\"n is negative\")"
   ]
  },
  {
   "cell_type": "markdown",
   "metadata": {},
   "source": [
    "### 02) WAP to check whether the given number is odd or even."
   ]
  },
  {
   "cell_type": "code",
   "execution_count": 6,
   "metadata": {},
   "outputs": [
    {
     "name": "stdout",
     "output_type": "stream",
     "text": [
      "Enter the number :33\n",
      "N is odd\n"
     ]
    }
   ],
   "source": [
    "n = int(input(\"Enter the number :\"))\n",
    "if n%2==0 :\n",
    "    print(\"N is even\")\n",
    "else :\n",
    "    print(\"N is odd\")"
   ]
  },
  {
   "cell_type": "markdown",
   "metadata": {},
   "source": [
    "### 03) WAP to find out largest number from given two numbers using simple if and ternary operator."
   ]
  },
  {
   "cell_type": "code",
   "execution_count": 12,
   "metadata": {},
   "outputs": [
    {
     "name": "stdout",
     "output_type": "stream",
     "text": [
      "Enter the first Number : 98\n",
      "Enter the second Number : 76\n",
      "Largest is : 98\n",
      "Largest is : 98\n"
     ]
    }
   ],
   "source": [
    "n1 = int(input(\"Enter the first Number : \"))\n",
    "n2 = int(input(\"Enter the second Number : \"))\n",
    "\n",
    "#ernary operator\n",
    "largest = n1 if n1 > n2 else n2\n",
    "print(\"Largest is :\",largest)\n",
    "\n",
    "#if\n",
    "if n1>n2 :\n",
    "    largest = n1\n",
    "else:\n",
    "    largest = n2\n",
    "print(\"Largest is :\",largest)"
   ]
  },
  {
   "cell_type": "markdown",
   "metadata": {},
   "source": [
    "### 04) WAP to find out largest number from given three numbers."
   ]
  },
  {
   "cell_type": "code",
   "execution_count": 14,
   "metadata": {},
   "outputs": [
    {
     "name": "stdout",
     "output_type": "stream",
     "text": [
      "Enter the first Number : 45\n",
      "Enter the second Number : 32\n",
      "Enter the third Number : 12\n",
      "Largest is : 45\n"
     ]
    }
   ],
   "source": [
    "n1 = int(input(\"Enter the first Number : \"))\n",
    "n2 = int(input(\"Enter the second Number : \"))\n",
    "n3 = int(input(\"Enter the third Number : \"))\n",
    "\n",
    "if n1>n2:\n",
    "    if n1>n3:\n",
    "        largest = n1\n",
    "    else:\n",
    "        largest = n3\n",
    "else:\n",
    "    if n2>n3:\n",
    "        largest = n2\n",
    "    else:\n",
    "        largest = n3\n",
    "print(\"Largest is :\",largest)"
   ]
  },
  {
   "cell_type": "markdown",
   "metadata": {},
   "source": [
    "### 05) WAP to check whether the given year is leap year or not.\n",
    "[If a year can be divisible by 4 but not divisible by 100 then it is leap year but if it is divisible by 400 then it is leap year]"
   ]
  },
  {
   "cell_type": "code",
   "execution_count": 20,
   "metadata": {},
   "outputs": [
    {
     "name": "stdout",
     "output_type": "stream",
     "text": [
      "Enter the year : 2024\n",
      "2024 is a Leap Year.\n"
     ]
    }
   ],
   "source": [
    "year = int(input(\"Enter the year : \"))\n",
    "\n",
    "if (year%400 == 0) and (year%100 == 0):\n",
    "    print(year,\"is a Leap Year.\")\n",
    "elif (year%4 == 0) and (year%100 != 0):\n",
    "    print(year,\"is a Leap Year.\")\n",
    "else:\n",
    "    print(year,\"is not a Leap Year.\")\n",
    "    "
   ]
  },
  {
   "cell_type": "markdown",
   "metadata": {},
   "source": [
    "### 06) WAP in python to display the name of the day according to the number given by the user."
   ]
  },
  {
   "cell_type": "code",
   "execution_count": 14,
   "metadata": {},
   "outputs": [
    {
     "name": "stdout",
     "output_type": "stream",
     "text": [
      "Enter the 1 to 7 number :5\n",
      "Thurseday\n"
     ]
    }
   ],
   "source": [
    "n = int(input(\"Enter the 1 to 7 number :\"))\n",
    "n = n - 1\n",
    "mylist = [\"Sunday\",\"Monday\",\"Tuesday\",\"Wendesday\",\"Thurseday\",\"Friday\",\"Satureday\"]\n",
    "#match case\n",
    "\n",
    "match n:\n",
    "    case 0:\n",
    "        print(mylist[n])\n",
    "    case 1:\n",
    "        print(mylist[n])\n",
    "    case 2:\n",
    "        print(mylist[n])\n",
    "    case 3:\n",
    "        print(mylist[n])\n",
    "    case 4:\n",
    "        print(mylist[n])\n",
    "    case 5:\n",
    "        print(mylist[n])\n",
    "    case 6:\n",
    "        print(mylist[n])\n",
    "    case _:\n",
    "        print(\"Wrong Input!\")"
   ]
  },
  {
   "cell_type": "markdown",
   "metadata": {},
   "source": [
    "### 07) WAP to implement simple calculator which performs (add,sub,mul,div) of two no. based on user input."
   ]
  },
  {
   "cell_type": "code",
   "execution_count": 5,
   "metadata": {},
   "outputs": [
    {
     "name": "stdout",
     "output_type": "stream",
     "text": [
      "Enetr the first number : 90\n",
      "Enter the second number : 89\n",
      "Enter the Opration : -\n",
      "a-b =  1\n"
     ]
    }
   ],
   "source": [
    "a = int(input(\"Enetr the first number : \"))\n",
    "b = int(input(\"Enter the second number : \"))\n",
    "op = input(\"Enter the Opration : \")\n",
    "\n",
    "if op=='+':\n",
    "    print(\"a+b = \",a+b)\n",
    "elif op=='-':\n",
    "    print(\"a-b = \",a-b)\n",
    "elif op=='*':\n",
    "    print(\"a*b = \",a*b)\n",
    "elif op=='/':\n",
    "    print(\"a/b = \",a/b)\n",
    "else:\n",
    "    print(\"Wrong Input!\")"
   ]
  },
  {
   "cell_type": "markdown",
   "metadata": {},
   "source": [
    "### 08) WAP to read marks of five subjects. Calculate percentage and print class accordingly. \n",
    "Fail below 35 </br>\n",
    "Pass Class between 35 to 45 </br>\n",
    "Second Class</br>\n",
    "between 45 to 60</br>\n",
    "First Class between 60 to 70</br> \n",
    "Distinction if more than 70"
   ]
  },
  {
   "cell_type": "code",
   "execution_count": 10,
   "metadata": {},
   "outputs": [
    {
     "name": "stdout",
     "output_type": "stream",
     "text": [
      "Enter the marks of subject-1 : 56\n",
      "Enter the marks of subject-2 : 78\n",
      "Enter the marks of subject-3 : 90\n",
      "Enter the marks of subject-4 : 76\n",
      "Enter the marks of subject-5 : 45\n",
      "First class\n"
     ]
    }
   ],
   "source": [
    "s1 = int(input(\"Enter the marks of subject-1 : \"))\n",
    "s2 = int(input(\"Enter the marks of subject-2 : \"))\n",
    "s3 = int(input(\"Enter the marks of subject-3 : \"))\n",
    "s4 = int(input(\"Enter the marks of subject-4 : \"))\n",
    "s5 = int(input(\"Enter the marks of subject-5 : \"))\n",
    "\n",
    "per = ((s1+s2+s3+s4+s5)/500)*100;\n",
    "\n",
    "if per>=70:\n",
    "    print(\"Distinction\")\n",
    "elif per>=60 and per<70:\n",
    "    print(\"First class\")\n",
    "elif per>=45 and per<60:\n",
    "    print(\"Second class\")\n",
    "elif per>=35 and per<45:\n",
    "    print(\"Third class\")\n",
    "else:\n",
    "    print(\"fail\")\n"
   ]
  },
  {
   "cell_type": "markdown",
   "metadata": {},
   "source": [
    "### 09) Three sides of a triangle are entered through the keyboard, WAP to check whether the triangle is isosceles, equilateral, scalene or right-angled triangle."
   ]
  },
  {
   "cell_type": "code",
   "execution_count": 8,
   "metadata": {},
   "outputs": [
    {
     "name": "stdin",
     "output_type": "stream",
     "text": [
      "Enter the first side :  3\n",
      "Enter the second side :  4\n",
      "Enter the third side :  5\n"
     ]
    },
    {
     "name": "stdout",
     "output_type": "stream",
     "text": [
      "Right-Angled Triangle.\n"
     ]
    }
   ],
   "source": [
    "a = int(input(\"Enter the first side : \"));\n",
    "b = int(input(\"Enter the second side : \"));\n",
    "c = int(input(\"Enter the third side : \"));\n",
    "\n",
    "if (a==b==c):\n",
    "    print(\"Equilateral Triangle.\");\n",
    "elif (a==b) or (a==c) or (b==c):\n",
    "    print(\"Isosceles Triangle.\")\n",
    "elif ((a*a) == (b*b) + (c*c)) or ((b*b) == (a*a)+(c*c)) or ((c*c) == (a*a)+(b*b)):\n",
    "    print(\"Right-Angled Triangle.\")\n",
    "else:\n",
    "    print(\"Scalene Triangle.\")"
   ]
  },
  {
   "cell_type": "markdown",
   "metadata": {},
   "source": [
    "### 10) WAP to find the second largest number among three user input numbers."
   ]
  },
  {
   "cell_type": "code",
   "execution_count": 12,
   "metadata": {},
   "outputs": [
    {
     "name": "stdin",
     "output_type": "stream",
     "text": [
      "Enter the first Number :  45\n",
      "Enter the second Number :  67\n",
      "Enter the third Number :  50\n"
     ]
    },
    {
     "name": "stdout",
     "output_type": "stream",
     "text": [
      "50 is second Largest.\n"
     ]
    }
   ],
   "source": [
    "a = int(input(\"Enter the first Number : \"))\n",
    "b = int(input(\"Enter the second Number : \"))\n",
    "c = int(input(\"Enter the third Number : \"))\n",
    "\n",
    "if a>b and a>c:\n",
    "    if b>c:\n",
    "        print(b,\"is second Largest.\")\n",
    "    else:\n",
    "        print(c,\"is second Largest.\")\n",
    "        \n",
    "if b>a and b>c:\n",
    "    if a>c:\n",
    "        print(a,\"is second Largest.\")\n",
    "    else:\n",
    "        print(c,\"is second Largest.\")\n",
    "\n",
    "if c>a and c>b:\n",
    "    if a>b:\n",
    "        print(a,\"is second Largest.\")\n",
    "    else:\n",
    "        print(b,\"is second Largest.\")"
   ]
  },
  {
   "cell_type": "markdown",
   "metadata": {},
   "source": [
    "### 11) WAP to calculate electricity bill based on following criteria. Which takes the unit from the user.\n",
    "a. First 1 to 50 units – Rs. 2.60/unit</br>\n",
    "b. Next 50 to 100 units – Rs. 3.25/unit</br>\n",
    "c. Next 100 to 200 units – Rs. 5.26/unit</br>\n",
    "d. above 200 units – Rs. 8.45/unit"
   ]
  },
  {
   "cell_type": "code",
   "execution_count": 15,
   "metadata": {},
   "outputs": [
    {
     "name": "stdin",
     "output_type": "stream",
     "text": [
      "Enter the Electricity Unit :  175\n"
     ]
    },
    {
     "name": "stdout",
     "output_type": "stream",
     "text": [
      "Total Amount :  920.5\n"
     ]
    }
   ],
   "source": [
    "n = int(input(\"Enter the Electricity Unit : \"))\n",
    "totalAmount = 0\n",
    "\n",
    "if n>=1 and n<50:\n",
    "    totalAmount = 2.6 * n\n",
    "elif n>=50 and n<100:\n",
    "    totalAmount = 3.25 * n\n",
    "elif n>=100 and n<200:\n",
    "    totalAmount = 5.26 * n\n",
    "elif n>=200:\n",
    "    totalAmount =  8.45 * n\n",
    "\n",
    "print(\"Total Amount : \",totalAmount)"
   ]
  }
 ],
 "metadata": {
  "kernelspec": {
   "display_name": "Python 3 (ipykernel)",
   "language": "python",
   "name": "python3"
  },
  "language_info": {
   "codemirror_mode": {
    "name": "ipython",
    "version": 3
   },
   "file_extension": ".py",
   "mimetype": "text/x-python",
   "name": "python",
   "nbconvert_exporter": "python",
   "pygments_lexer": "ipython3",
   "version": "3.12.7"
  }
 },
 "nbformat": 4,
 "nbformat_minor": 4
}
