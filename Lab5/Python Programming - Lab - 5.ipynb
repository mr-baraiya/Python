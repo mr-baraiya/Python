{
 "cells": [
  {
   "cell_type": "markdown",
   "metadata": {},
   "source": [
    "\n",
    "<a href='https://www.darshan.ac.in/'> <img src='https://www.darshan.ac.in/Content/media/DU_Logo.svg' width=\"250\" height=\"300\"/></a>\n",
    "<pre>\n",
    "<center><b><h1>Python Programming - 2301CS404</b></center>\n",
    "<center><b><h1>Lab - 5</b></center>    \n",
    "<center><b><h1>223 | Vishal Baraiya | 23010101014</b></center>    \n",
    "<pre>"
   ]
  },
  {
   "cell_type": "markdown",
   "metadata": {},
   "source": [
    "# List"
   ]
  },
  {
   "cell_type": "markdown",
   "metadata": {},
   "source": [
    "### 01) WAP to find sum of all the elements in a List."
   ]
  },
  {
   "cell_type": "code",
   "execution_count": 5,
   "metadata": {},
   "outputs": [
    {
     "name": "stdout",
     "output_type": "stream",
     "text": [
      "Sum :  125\n"
     ]
    }
   ],
   "source": [
    "l = [12,34,21,13,45]\n",
    "sum = 0\n",
    "for i in l:\n",
    "    sum += i\n",
    "print(\"Sum : \",sum)"
   ]
  },
  {
   "cell_type": "markdown",
   "metadata": {},
   "source": [
    "### 02) WAP to find largest element in a List."
   ]
  },
  {
   "cell_type": "code",
   "execution_count": 6,
   "metadata": {},
   "outputs": [
    {
     "name": "stdout",
     "output_type": "stream",
     "text": [
      "Max :  45\n"
     ]
    }
   ],
   "source": [
    "l = [12,34,21,13,45]\n",
    "max = l[0]\n",
    "for i in l:\n",
    "    if (max < i):\n",
    "        max = i\n",
    "print(\"Max : \",max)"
   ]
  },
  {
   "cell_type": "markdown",
   "metadata": {},
   "source": [
    "### 03) WAP to find the length of a List."
   ]
  },
  {
   "cell_type": "code",
   "execution_count": 8,
   "metadata": {},
   "outputs": [
    {
     "name": "stdout",
     "output_type": "stream",
     "text": [
      "Length Of List :  0\n"
     ]
    }
   ],
   "source": [
    "l = [12,34,21,13,45]\n",
    "length = 0\n",
    "for i in l:\n",
    "    length += 1\n",
    "print(\"Length Of List : \",length)"
   ]
  },
  {
   "cell_type": "markdown",
   "metadata": {},
   "source": [
    "### 04) WAP to interchange first and last elements in a list."
   ]
  },
  {
   "cell_type": "code",
   "execution_count": 22,
   "metadata": {},
   "outputs": [
    {
     "name": "stdout",
     "output_type": "stream",
     "text": [
      "[90, 34, 56, 78, 12]\n"
     ]
    }
   ],
   "source": [
    "l = [12,34,56,78,90]\n",
    "if (len(l) == 0 or len(l) == 1):\n",
    "    print(\"List is Empty or contains only one elemant.\")\n",
    "else:\n",
    "    temp = l[0]\n",
    "    l[0] = l[-1]\n",
    "    l[-1] = temp\n",
    "print(l)"
   ]
  },
  {
   "cell_type": "markdown",
   "metadata": {},
   "source": [
    "### 05) WAP to split the List into two parts and append the first part to the end."
   ]
  },
  {
   "cell_type": "code",
   "execution_count": 20,
   "metadata": {},
   "outputs": [
    {
     "name": "stdout",
     "output_type": "stream",
     "text": [
      "[5, 6, 7, 9, 12, 1, 2, 3]\n"
     ]
    }
   ],
   "source": [
    "l = [12,1,2,3,5,6,7,9]\n",
    "l1 = l[0:int(len(l)/2)] \n",
    "l2 = l[int(len(l)/2):len(l)]\n",
    "l2.extend(l1)\n",
    "print(l2)"
   ]
  },
  {
   "cell_type": "markdown",
   "metadata": {},
   "source": [
    "### 06) WAP to interchange the elements on two positions entered by a user."
   ]
  },
  {
   "cell_type": "code",
   "execution_count": 23,
   "metadata": {},
   "outputs": [
    {
     "name": "stdin",
     "output_type": "stream",
     "text": [
      "Enter the Position :  2\n",
      "Enter the Position :  3\n"
     ]
    },
    {
     "name": "stdout",
     "output_type": "stream",
     "text": [
      "[12, 1, 3, 2, 5, 6, 7, 9]\n"
     ]
    }
   ],
   "source": [
    "l = [12,1,2,3,5,6,7,9]\n",
    "print(\"Length of the List : \",len(l))\n",
    "p1 = int(input(\"Enter the Position : \"))\n",
    "p2 = int(input(\"Enter the Position : \"))\n",
    "if (len(l)==0 or p1>len(l) or p2>len(l)):\n",
    "    print(\"Length of the list is small then position.\")\n",
    "temp = l[p1]\n",
    "l[p1] = l[p2]\n",
    "l[p2] = temp\n",
    "print(l)"
   ]
  },
  {
   "cell_type": "markdown",
   "metadata": {},
   "source": [
    "### 07) WAP to reverse the list entered by user."
   ]
  },
  {
   "cell_type": "code",
   "execution_count": 25,
   "metadata": {},
   "outputs": [
    {
     "name": "stdin",
     "output_type": "stream",
     "text": [
      "Enter the Total Numbers you want to add:  5\n",
      "Enter the Number :  1\n",
      "Enter the Number :  2\n",
      "Enter the Number :  3\n",
      "Enter the Number :  4\n",
      "Enter the Number :  5\n"
     ]
    },
    {
     "name": "stdout",
     "output_type": "stream",
     "text": [
      "[1, 2, 3, 4, 5]\n"
     ]
    }
   ],
   "source": [
    "n = int(input(\"Enter the Total Numbers you want to add: \"))\n",
    "l1 = list()\n",
    "for i in range(0,n):\n",
    "    l1.append(int(input(\"Enter the Number : \")))\n",
    "print(l1)"
   ]
  },
  {
   "cell_type": "markdown",
   "metadata": {},
   "source": [
    "### 08) WAP to print even numbers in a list."
   ]
  },
  {
   "cell_type": "code",
   "execution_count": 26,
   "metadata": {},
   "outputs": [
    {
     "name": "stdin",
     "output_type": "stream",
     "text": [
      "Enter the size :  5\n",
      "Enter the Number :  1\n",
      "Enter the Number :  2\n",
      "Enter the Number :  3\n",
      "Enter the Number :  4\n",
      "Enter the Number :  5\n"
     ]
    },
    {
     "name": "stdout",
     "output_type": "stream",
     "text": [
      "[2, 4]\n"
     ]
    }
   ],
   "source": [
    "n = int(input(\"Enter the size : \"))\n",
    "l1 = list()\n",
    "for i in range(0,n):\n",
    "    l1.append(int(input(\"Enter the Number : \")))\n",
    "even = []\n",
    "for i in l1:\n",
    "    if (i % 2 == 0):\n",
    "        even.append(i)\n",
    "print(even)"
   ]
  },
  {
   "cell_type": "markdown",
   "metadata": {},
   "source": [
    "### 09) WAP to count unique items in a list."
   ]
  },
  {
   "cell_type": "code",
   "execution_count": 38,
   "metadata": {},
   "outputs": [
    {
     "name": "stdout",
     "output_type": "stream",
     "text": [
      "[1, 2, 3, 4, 5, 2, 3, 4]\n",
      "{1, 2, 3, 4, 5}\n"
     ]
    }
   ],
   "source": [
    "l = [1,2,3,4,5,2,3,4]\n",
    "print(l)\n",
    "l2 = set(l)\n",
    "print(l2)"
   ]
  },
  {
   "cell_type": "markdown",
   "metadata": {},
   "source": [
    "### 10) WAP to copy a list."
   ]
  },
  {
   "cell_type": "code",
   "execution_count": 39,
   "metadata": {},
   "outputs": [
    {
     "name": "stdout",
     "output_type": "stream",
     "text": [
      "[1, 2, 3, 4, 5]\n"
     ]
    }
   ],
   "source": [
    "l = [1,2,3,4,5]\n",
    "l2 = l.copy()\n",
    "print(l2)"
   ]
  },
  {
   "cell_type": "markdown",
   "metadata": {},
   "source": [
    "### 11) WAP to print all odd numbers in a given range."
   ]
  },
  {
   "cell_type": "code",
   "execution_count": 42,
   "metadata": {},
   "outputs": [
    {
     "name": "stdin",
     "output_type": "stream",
     "text": [
      "Enter the Starting Point :  1\n",
      "Enter the Ending Point :  10\n"
     ]
    },
    {
     "name": "stdout",
     "output_type": "stream",
     "text": [
      "1\n",
      "3\n",
      "5\n",
      "7\n",
      "9\n"
     ]
    }
   ],
   "source": [
    "start = int(input(\"Enter the Starting Point : \"))\n",
    "end = int(input(\"Enter the Ending Point : \"))\n",
    "for i in range(start,end+1):\n",
    "    if (i % 2 != 0):\n",
    "        print(i)\n"
   ]
  },
  {
   "cell_type": "markdown",
   "metadata": {},
   "source": [
    "### 12) WAP to count occurrences of an element in a list."
   ]
  },
  {
   "cell_type": "code",
   "execution_count": 46,
   "metadata": {},
   "outputs": [
    {
     "name": "stdout",
     "output_type": "stream",
     "text": [
      "34 : 1\n",
      "5 : 2\n",
      "6 : 2\n",
      "12 : 2\n",
      "78 : 1\n",
      "90 : 2\n"
     ]
    }
   ],
   "source": [
    "l1 = [12,34,5,6,5,6,12,78,90,90]\n",
    "l2 = list(set(l1))\n",
    "for i in l2:\n",
    "    print(i,\":\",l1.count(i))"
   ]
  },
  {
   "cell_type": "markdown",
   "metadata": {},
   "source": [
    "### 13) WAP to find second largest number in a list."
   ]
  },
  {
   "cell_type": "code",
   "execution_count": 49,
   "metadata": {},
   "outputs": [
    {
     "name": "stdout",
     "output_type": "stream",
     "text": [
      "Second Largest :  4\n"
     ]
    }
   ],
   "source": [
    "l = [1,2,3,4,5]\n",
    "max1 = l[0]\n",
    "for i in l:\n",
    "    if (max1 < i):\n",
    "        max1 = i\n",
    "l.remove(max1)\n",
    "max2 = l[0]\n",
    "for i in l:\n",
    "    if (max2 < i):\n",
    "        max2 = i\n",
    "print(\"Second Largest : \",max2)"
   ]
  },
  {
   "cell_type": "markdown",
   "metadata": {},
   "source": [
    "### 14) WAP to extract elements with frequency greater than K."
   ]
  },
  {
   "cell_type": "code",
   "execution_count": 57,
   "metadata": {},
   "outputs": [
    {
     "name": "stdin",
     "output_type": "stream",
     "text": [
      "Enter the frequency :  1\n"
     ]
    },
    {
     "name": "stdout",
     "output_type": "stream",
     "text": [
      "[90, 12, 5, 6]\n"
     ]
    }
   ],
   "source": [
    "l1 = [12,34,5,6,5,6,12,90,90,90]\n",
    "k = int(input(\"Enter the frequency : \"))\n",
    "l2 = list()\n",
    "for i in l1:\n",
    "    if (l1.count(i) > k):\n",
    "        l2.append(i)\n",
    "l2 = list(set(l2))\n",
    "print(l2)"
   ]
  },
  {
   "cell_type": "markdown",
   "metadata": {},
   "source": [
    "### 15) WAP to create a list of squared numbers from 0 to 9 with and without using List Comprehension."
   ]
  },
  {
   "cell_type": "code",
   "execution_count": 61,
   "metadata": {},
   "outputs": [
    {
     "name": "stdout",
     "output_type": "stream",
     "text": [
      "[0, 1, 4, 9, 16, 25, 36, 49, 64, 81]\n",
      "[0, 1, 4, 9, 16, 25, 36, 49, 64, 81]\n"
     ]
    }
   ],
   "source": [
    "l1 = []\n",
    "for i in range(0,10):\n",
    "    l1.append(i ** 2)\n",
    "print (l1)\n",
    "\n",
    "l2 = [i ** 2 for i in range(0,10)]\n",
    "print(l2)"
   ]
  },
  {
   "cell_type": "markdown",
   "metadata": {},
   "source": [
    "### 16) WAP to create a new list (fruit whose name starts with 'b') from the list of fruits given by user."
   ]
  },
  {
   "cell_type": "code",
   "execution_count": 67,
   "metadata": {},
   "outputs": [
    {
     "name": "stdin",
     "output_type": "stream",
     "text": [
      "Enter the size :  5\n",
      "Enter the Fruit Name :  banana\n",
      "Enter the Fruit Name :  mango\n",
      "Enter the Fruit Name :  grapes\n",
      "Enter the Fruit Name :  blue bary\n",
      "Enter the Fruit Name :  apple\n"
     ]
    },
    {
     "name": "stdout",
     "output_type": "stream",
     "text": [
      "['banana', 'blue bary']\n"
     ]
    }
   ],
   "source": [
    "n = int(input(\"Enter the size : \"))\n",
    "l = list()\n",
    "fruits = list()\n",
    "for i in range(0,n):\n",
    "    fruits.append(input(\"Enter the Fruit Name : \"))\n",
    "    \n",
    "for fruit in fruits:\n",
    "    if(fruit[0] == 'b'):\n",
    "        l.append(fruit)\n",
    "print(l)"
   ]
  },
  {
   "cell_type": "markdown",
   "metadata": {},
   "source": [
    "### 17) WAP to create a list of common elements from given two lists."
   ]
  },
  {
   "cell_type": "code",
   "execution_count": 3,
   "metadata": {},
   "outputs": [
    {
     "name": "stdout",
     "output_type": "stream",
     "text": [
      "[1, 3, 5]\n"
     ]
    }
   ],
   "source": [
    "l1 = [1,2,3,4,5]\n",
    "l2 = [1,3,5,7,9]\n",
    "newList = []\n",
    "for i in l1:\n",
    "    if(i in l2):\n",
    "        newList.append(i)\n",
    "print(newList)"
   ]
  }
 ],
 "metadata": {
  "kernelspec": {
   "display_name": "Python 3 (ipykernel)",
   "language": "python",
   "name": "python3"
  },
  "language_info": {
   "codemirror_mode": {
    "name": "ipython",
    "version": 3
   },
   "file_extension": ".py",
   "mimetype": "text/x-python",
   "name": "python",
   "nbconvert_exporter": "python",
   "pygments_lexer": "ipython3",
   "version": "3.13.1"
  }
 },
 "nbformat": 4,
 "nbformat_minor": 4
}
