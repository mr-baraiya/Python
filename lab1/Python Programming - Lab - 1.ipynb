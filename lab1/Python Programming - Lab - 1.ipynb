{
 "cells": [
  {
   "cell_type": "markdown",
   "metadata": {},
   "source": [
    "<a href='https://www.darshan.ac.in/'> <img src='https://www.darshan.ac.in/Content/media/DU_Logo.svg' width=\"250\" height=\"10\"/></a>\n",
    "<pre>\n",
    "<center><b><h1>Python Programming - 2301CS404</b></center>\n",
    "<center><b><h1>Lab - 1</b></center>    \n",
    "<center><b><h1>223 | Vishal Baraiya | 23010101014</b></center>    \n",
    "<pre>"
   ]
  },
  {
   "cell_type": "markdown",
   "metadata": {},
   "source": [
    "### 01) WAP to print “Hello World”"
   ]
  },
  {
   "cell_type": "code",
   "execution_count": 1,
   "metadata": {},
   "outputs": [
    {
     "name": "stdout",
     "output_type": "stream",
     "text": [
      "Hello World\n"
     ]
    }
   ],
   "source": [
    "print(\"Hello World\")"
   ]
  },
  {
   "cell_type": "markdown",
   "metadata": {},
   "source": [
    "### 02) WAP to print addition of two numbers with and without using input()."
   ]
  },
  {
   "cell_type": "code",
   "execution_count": 3,
   "metadata": {},
   "outputs": [
    {
     "name": "stdout",
     "output_type": "stream",
     "text": [
      "23 + 67 = 90\n"
     ]
    },
    {
     "name": "stdin",
     "output_type": "stream",
     "text": [
      "Enter the first Number: 89\n",
      "Enter the Second Number: 09\n"
     ]
    },
    {
     "name": "stdout",
     "output_type": "stream",
     "text": [
      "89 + 9 = 98\n"
     ]
    }
   ],
   "source": [
    "a = 23\n",
    "b = 67\n",
    "print(a,\"+\",b,\"=\",a+b)\n",
    "a = int(input(\"Enter the first Number:\"))\n",
    "b = int(input(\"Enter the Second Number:\"))\n",
    "print(a,\"+\",b,\"=\",a+b)"
   ]
  },
  {
   "cell_type": "markdown",
   "metadata": {},
   "source": [
    "### 03) WAP to check the type of the variable."
   ]
  },
  {
   "cell_type": "code",
   "execution_count": 9,
   "metadata": {},
   "outputs": [
    {
     "name": "stdout",
     "output_type": "stream",
     "text": [
      "type of a <class 'int'>\n",
      "type of b <class 'float'>\n",
      "type of str <class 'str'>\n"
     ]
    }
   ],
   "source": [
    "a = 89\n",
    "b = 8.9\n",
    "str = \"tempString\"\n",
    "print(\"type of a\",type(a))\n",
    "print(\"type of b\",type(b))\n",
    "print(\"type of str\",type(str))"
   ]
  },
  {
   "cell_type": "markdown",
   "metadata": {},
   "source": [
    "### 04) WAP to calculate simple interest."
   ]
  },
  {
   "cell_type": "code",
   "execution_count": 13,
   "metadata": {},
   "outputs": [
    {
     "name": "stdin",
     "output_type": "stream",
     "text": [
      "Enter the total Amount: 1000\n",
      "Enter the time Period: 10\n",
      "Enter the rate of Interest: 10\n"
     ]
    },
    {
     "name": "stdout",
     "output_type": "stream",
     "text": [
      "simple interest: 1000.0\n"
     ]
    }
   ],
   "source": [
    "p = int(input(\"Enter the total Amount:\"))\n",
    "n = int(input(\"Enter the time Period:\"))\n",
    "r = int(input(\"Enter the rate of Interest:\"))\n",
    "i = float((p*n*r)/100)\n",
    "print(\"simple interest:\",i)"
   ]
  },
  {
   "cell_type": "markdown",
   "metadata": {},
   "source": [
    "### 05) WAP to calculate area and perimeter of a circle."
   ]
  },
  {
   "cell_type": "code",
   "execution_count": 24,
   "metadata": {},
   "outputs": [
    {
     "name": "stdin",
     "output_type": "stream",
     "text": [
      "Enter the radius of the Circle: 7\n"
     ]
    },
    {
     "name": "stdout",
     "output_type": "stream",
     "text": [
      "area = 43.982297150257104\n",
      "area = 153.93804002589985\n"
     ]
    }
   ],
   "source": [
    "import math\n",
    "r = int(input(\"Enter the radius of the Circle:\"))\n",
    "perimeter = 2*math.pi*r\n",
    "area = math.pi*r*r\n",
    "print(\"area =\",perimeter)\n",
    "print(\"area =\",area)"
   ]
  },
  {
   "cell_type": "markdown",
   "metadata": {},
   "source": [
    "### 06) WAP to calculate area of a triangle."
   ]
  },
  {
   "cell_type": "code",
   "execution_count": 26,
   "metadata": {},
   "outputs": [
    {
     "name": "stdin",
     "output_type": "stream",
     "text": [
      "Enter the base: 3\n",
      "Enter the height: 6\n"
     ]
    },
    {
     "name": "stdout",
     "output_type": "stream",
     "text": [
      "area = 9.0\n"
     ]
    }
   ],
   "source": [
    "b = int(input(\"Enter the base:\"))\n",
    "h = int(input(\"Enter the height:\"))\n",
    "area = b*h*0.5\n",
    "print(\"area =\",area)"
   ]
  },
  {
   "cell_type": "markdown",
   "metadata": {},
   "source": [
    "### 07) WAP to compute quotient and remainder."
   ]
  },
  {
   "cell_type": "code",
   "execution_count": 31,
   "metadata": {},
   "outputs": [
    {
     "name": "stdin",
     "output_type": "stream",
     "text": [
      "Enter the number: 10\n",
      "the number is divide by: 8\n"
     ]
    },
    {
     "name": "stdout",
     "output_type": "stream",
     "text": [
      "quotient = 1.25\n",
      "remainder = 2\n"
     ]
    }
   ],
   "source": [
    "a = int(input(\"Enter the number:\"))\n",
    "b = int(input(\"the number is divide by:\"))\n",
    "quotient = a/b\n",
    "remainder = a%b\n",
    "print(\"quotient =\",quotient)\n",
    "print(\"remainder =\",remainder)\n"
   ]
  },
  {
   "cell_type": "markdown",
   "metadata": {},
   "source": [
    "### 08) WAP to convert degree into Fahrenheit and vice versa."
   ]
  },
  {
   "cell_type": "code",
   "execution_count": 36,
   "metadata": {},
   "outputs": [
    {
     "name": "stdin",
     "output_type": "stream",
     "text": [
      "Enter the temprature in Fahrenheit: 32\n"
     ]
    },
    {
     "name": "stdout",
     "output_type": "stream",
     "text": [
      "temprature in degree: 0.0\n"
     ]
    },
    {
     "name": "stdin",
     "output_type": "stream",
     "text": [
      "Enter the temprature in degree: 0\n"
     ]
    },
    {
     "name": "stdout",
     "output_type": "stream",
     "text": [
      "temprature in Fahrenheit: 32.0\n"
     ]
    }
   ],
   "source": [
    "f = float(input(\"Enter the temprature in Fahrenheit:\"))\n",
    "c = ((f-32)*5)/9\n",
    "print(\"temprature in degree:\",c)\n",
    "\n",
    "c = float(input(\"Enter the temprature in degree:\"))\n",
    "f = ((c*9)/5)+32\n",
    "print(\"temprature in Fahrenheit:\",f)"
   ]
  },
  {
   "cell_type": "markdown",
   "metadata": {},
   "source": [
    "### 09) WAP to find the distance between two points in 2-D space."
   ]
  },
  {
   "cell_type": "code",
   "execution_count": 42,
   "metadata": {},
   "outputs": [
    {
     "name": "stdout",
     "output_type": "stream",
     "text": [
      "distance : 4.242640687119285\n"
     ]
    }
   ],
   "source": [
    "import math\n",
    "x1,y1 = 5,6\n",
    "x2,y2 = 8,9\n",
    "distance = math.sqrt(math.pow((x1-x2),2)+math.pow((y1-y2),2))\n",
    "print(\"distance :\",distance)"
   ]
  },
  {
   "cell_type": "markdown",
   "metadata": {},
   "source": [
    "### 10) WAP to print sum of n natural numbers."
   ]
  },
  {
   "cell_type": "code",
   "execution_count": 60,
   "metadata": {},
   "outputs": [
    {
     "name": "stdin",
     "output_type": "stream",
     "text": [
      "Enter the value of n : 10\n"
     ]
    },
    {
     "name": "stdout",
     "output_type": "stream",
     "text": [
      "sum : 55.0\n"
     ]
    }
   ],
   "source": [
    "n = int(input(\"Enter the value of n :\"))\n",
    "sum = (n*(n+1))/2\n",
    "print(\"sum :\",sum)"
   ]
  },
  {
   "cell_type": "markdown",
   "metadata": {},
   "source": [
    "### 11) WAP to print sum of square of n natural numbers."
   ]
  },
  {
   "cell_type": "code",
   "execution_count": 56,
   "metadata": {},
   "outputs": [
    {
     "name": "stdin",
     "output_type": "stream",
     "text": [
      "Enter the value of n : 3\n"
     ]
    },
    {
     "name": "stdout",
     "output_type": "stream",
     "text": [
      "sum : 14.0\n"
     ]
    }
   ],
   "source": [
    "n = int(input(\"Enter the value of n :\"))\n",
    "sum = (n*(n+1)*(2*n+1))/6\n",
    "print(\"sum :\",sum)"
   ]
  },
  {
   "cell_type": "markdown",
   "metadata": {},
   "source": [
    "### 12) WAP to concate the first and last name of the student."
   ]
  },
  {
   "cell_type": "code",
   "execution_count": 66,
   "metadata": {},
   "outputs": [
    {
     "name": "stdout",
     "output_type": "stream",
     "text": [
      "Vishal Baraiya\n"
     ]
    }
   ],
   "source": [
    "fn = \"Vishal\"\n",
    "ln = \"Baraiya\"\n",
    "res = fn+\" \"+ln\n",
    "print(res)"
   ]
  },
  {
   "cell_type": "markdown",
   "metadata": {},
   "source": [
    "### 13) WAP to swap two numbers."
   ]
  },
  {
   "cell_type": "code",
   "execution_count": 68,
   "metadata": {},
   "outputs": [
    {
     "name": "stdout",
     "output_type": "stream",
     "text": [
      "a = 87\n",
      "b = 23\n"
     ]
    }
   ],
   "source": [
    "a = 23\n",
    "b = 87\n",
    "temp = a\n",
    "a = b\n",
    "b = temp\n",
    "print(\"a =\",a)\n",
    "print(\"b =\",b)"
   ]
  },
  {
   "cell_type": "markdown",
   "metadata": {},
   "source": [
    "### 14) WAP to get the distance from user into kilometer, and convert it into meter, feet, inches and centimeter."
   ]
  },
  {
   "cell_type": "code",
   "execution_count": 70,
   "metadata": {},
   "outputs": [
    {
     "name": "stdin",
     "output_type": "stream",
     "text": [
      "Enter the distence in km : 10\n"
     ]
    },
    {
     "name": "stdout",
     "output_type": "stream",
     "text": [
      "in meters : 10000\n",
      "in feet : 32810\n",
      "in inches : 393701.0\n",
      "in cm 1000000\n"
     ]
    }
   ],
   "source": [
    "d = int(input(\"Enter the distence in km :\"))\n",
    "print(\"in meters :\",d*1000)\n",
    "print(\"in feet :\",d*3281)\n",
    "print(\"in inches :\",d*39370.1)\n",
    "print(\"in cm\",d*1000*100)"
   ]
  },
  {
   "cell_type": "markdown",
   "metadata": {},
   "source": [
    "### 15) WAP to get day, month and year from the user and print the date in the given format: 23-11-2024."
   ]
  },
  {
   "cell_type": "code",
   "execution_count": 78,
   "metadata": {},
   "outputs": [
    {
     "name": "stdin",
     "output_type": "stream",
     "text": [
      "Enter the day : 8\n",
      "Enter the month : 9\n",
      "Enter the year : 2024\n"
     ]
    },
    {
     "name": "stdout",
     "output_type": "stream",
     "text": [
      "8-9-2024\n"
     ]
    }
   ],
   "source": [
    "d = int(input(\"Enter the day :\"))\n",
    "m = int(input(\"Enter the month :\"))\n",
    "y = int(input(\"Enter the year :\"))\n",
    "print(d,\"-\",m,\"-\",y,sep=\"\",end=\"\\n\")"
   ]
  },
  {
   "cell_type": "code",
   "execution_count": null,
   "metadata": {},
   "outputs": [],
   "source": []
  }
 ],
 "metadata": {
  "kernelspec": {
   "display_name": "Python 3 (ipykernel)",
   "language": "python",
   "name": "python3"
  },
  "language_info": {
   "codemirror_mode": {
    "name": "ipython",
    "version": 3
   },
   "file_extension": ".py",
   "mimetype": "text/x-python",
   "name": "python",
   "nbconvert_exporter": "python",
   "pygments_lexer": "ipython3",
   "version": "3.13.1"
  },
  "vscode": {
   "interpreter": {
    "hash": "31f2aee4e71d21fbe5cf8b01ff0e069b9275f58929596ceb00d14d90e3e16cd6"
   }
  }
 },
 "nbformat": 4,
 "nbformat_minor": 4
}
