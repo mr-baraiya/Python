{
 "cells": [
  {
   "attachments": {},
   "cell_type": "markdown",
   "metadata": {},
   "source": [
    "<a href='https://www.darshan.ac.in/'> <img src='https://www.darshan.ac.in/Content/media/DU_Logo.svg' width=\"250\" height=\"300\"/></a>\n",
    "<pre>\n",
    "<center><b><h1>Python Programming - 2301CS404</b></center>\n",
    "<center><b><h1>Lab - 6</b></center>   \n",
    "<center><b><h1>223 | Vishal Baraiya | 23010101014</b></center>   \n",
    "<pre>"
   ]
  },
  {
   "cell_type": "markdown",
   "metadata": {},
   "source": [
    "# Tuple"
   ]
  },
  {
   "cell_type": "markdown",
   "metadata": {},
   "source": [
    "### 01) WAP to find sum of tuple elements."
   ]
  },
  {
   "cell_type": "code",
   "execution_count": 1,
   "metadata": {},
   "outputs": [
    {
     "name": "stdout",
     "output_type": "stream",
     "text": [
      "Sum =  15\n"
     ]
    }
   ],
   "source": [
    "t1 = (1,2,3,4,5)\n",
    "sum = 0\n",
    "for i in t1:\n",
    "    sum += i\n",
    "\n",
    "print(\"Sum = \",sum)"
   ]
  },
  {
   "cell_type": "markdown",
   "metadata": {},
   "source": [
    "### 02) WAP to find Maximum and Minimum K elements in a given tuple."
   ]
  },
  {
   "cell_type": "code",
   "execution_count": 6,
   "metadata": {},
   "outputs": [
    {
     "name": "stdin",
     "output_type": "stream",
     "text": [
      "Enter the Number :  2\n"
     ]
    },
    {
     "name": "stdout",
     "output_type": "stream",
     "text": [
      "2 Minimum Numbers is : \n",
      "1\n",
      "2\n",
      "2 Maximum Numbers is : \n",
      "10\n",
      "9\n"
     ]
    }
   ],
   "source": [
    "t1 = (1,2,3,4,5,6,7,8,9,10)\n",
    "l = list(t1)\n",
    "l.sort()\n",
    "t1 = tuple(l)\n",
    "k = int(input(\"Enter the Number : \"))\n",
    "print(f\"{k} Minimum Numbers is : \")\n",
    "for i in range(0,k):\n",
    "        print(t1[i])\n",
    "    \n",
    "print(f\"{k} Maximum Numbers is : \")\n",
    "for i in range(-1,-k-1,-1):\n",
    "        print(t1[i])\n"
   ]
  },
  {
   "cell_type": "markdown",
   "metadata": {},
   "source": [
    "### 03) WAP to find tuples which have all elements divisible by K from a list of tuples."
   ]
  },
  {
   "cell_type": "code",
   "execution_count": 10,
   "metadata": {},
   "outputs": [
    {
     "name": "stdin",
     "output_type": "stream",
     "text": [
      "Enter the Number :  2\n"
     ]
    },
    {
     "name": "stdout",
     "output_type": "stream",
     "text": [
      "(2, 4, 6, 8, 10)\n",
      "(4, 8)\n"
     ]
    }
   ],
   "source": [
    "def allAreDevisible(t,k):\n",
    "    for i in t:\n",
    "        if (i % k != 0):\n",
    "            return False\n",
    "    else:\n",
    "        return True\n",
    "        \n",
    "t1 = (6,7,8,9,10)\n",
    "t2 = (2,4,6,8,10)\n",
    "t3 = (3,6,9)\n",
    "t4 = (4,8)\n",
    "\n",
    "l = [t1,t2,t3,t4]\n",
    "k = int(input(\"Enter the Number : \"))\n",
    "for i in t:\n",
    "    if( allAreDevisible(i,k)):\n",
    "        print(i)"
   ]
  },
  {
   "cell_type": "markdown",
   "metadata": {},
   "source": [
    "### 04) WAP to create a list of tuples from given list having number and its cube in each tuple."
   ]
  },
  {
   "cell_type": "code",
   "execution_count": 16,
   "metadata": {},
   "outputs": [
    {
     "name": "stdout",
     "output_type": "stream",
     "text": [
      "[(1, 1), (2, 8), (3, 27), (4, 64), (5, 125)]\n",
      "[(1, 1), (2, 8), (3, 27), (4, 64), (5, 125)]\n"
     ]
    }
   ],
   "source": [
    "l = [1,2,3,4,5]\n",
    "\n",
    "# First Way\n",
    "l1 = []\n",
    "for i in l:\n",
    "    l1.append((i,i**3))\n",
    "print(l1)\n",
    "\n",
    "# Another Way\n",
    "l2 = [(i,i**3) for i in l]\n",
    "print(l2)"
   ]
  },
  {
   "cell_type": "markdown",
   "metadata": {},
   "source": [
    "### 05) WAP to find tuples with all positive elements from the given list of tuples."
   ]
  },
  {
   "cell_type": "code",
   "execution_count": 20,
   "metadata": {},
   "outputs": [
    {
     "name": "stdout",
     "output_type": "stream",
     "text": [
      "(2, 4, 6, 8, 10)\n",
      "(4, 8)\n"
     ]
    }
   ],
   "source": [
    "def allArePositive(t):\n",
    "    for i in t:\n",
    "        if (i < 0):\n",
    "            return False\n",
    "    else:\n",
    "        return True\n",
    "\n",
    "t1 = (-6,7,-8,9,10)\n",
    "t2 = (2,4,6,8,10)\n",
    "t3 = (3,6,-9)\n",
    "t4 = (4,8)\n",
    "l = [t1,t2,t3,t4]\n",
    "\n",
    "for i in l:\n",
    "    if(allArePositive(i)):\n",
    "        print(i)"
   ]
  },
  {
   "cell_type": "markdown",
   "metadata": {},
   "source": [
    "### 06) WAP to add tuple to list and vice – versa."
   ]
  },
  {
   "cell_type": "code",
   "execution_count": 23,
   "metadata": {},
   "outputs": [
    {
     "name": "stdout",
     "output_type": "stream",
     "text": [
      "[(1, 2, 3), (4, 5, 6, 7, 8), (3, 6, -9)]\n",
      "([1, 2, 3], [4, 5, 6, 7, 8], [3, 6, -9])\n"
     ]
    }
   ],
   "source": [
    "t1 = (1,2,3)\n",
    "t2 = (4,5,6,7,8)\n",
    "t3 = (3,6,-9)\n",
    "l = [t1,t2,t3]\n",
    "print(l)\n",
    "\n",
    "# vice-verasa\n",
    "l1 = [1,2,3]\n",
    "l2 = [4,5,6,7,8]\n",
    "l3 = [3,6,-9]\n",
    "t = (l1,l2,l3)\n",
    "print(t)"
   ]
  },
  {
   "cell_type": "markdown",
   "metadata": {},
   "source": [
    "### 07) WAP to remove tuples of length K."
   ]
  },
  {
   "cell_type": "code",
   "execution_count": 24,
   "metadata": {},
   "outputs": [
    {
     "name": "stdin",
     "output_type": "stream",
     "text": [
      "Enter the length :  3\n"
     ]
    },
    {
     "name": "stdout",
     "output_type": "stream",
     "text": [
      "[(-6, 7, -8, 9, 10), (2, 4, 6, 8, 10), (4, 8)]\n"
     ]
    }
   ],
   "source": [
    "t1 = (-6,7,-8,9,10)\n",
    "t2 = (2,4,6,8,10)\n",
    "t3 = (3,6,-9)\n",
    "t4 = (4,8)\n",
    "l = [t1,t2,t3,t4]\n",
    "k = int(input(\"Enter the length : \"))\n",
    "for i in l:\n",
    "    if(len(i) == k):\n",
    "        l.remove(i)\n",
    "\n",
    "print(l)"
   ]
  },
  {
   "cell_type": "markdown",
   "metadata": {},
   "source": [
    "### 08) WAP to remove duplicates from tuple."
   ]
  },
  {
   "cell_type": "code",
   "execution_count": 26,
   "metadata": {},
   "outputs": [
    {
     "name": "stdout",
     "output_type": "stream",
     "text": [
      "(1, 2, 3, 4, 5, 6)\n"
     ]
    }
   ],
   "source": [
    "t = (1,2,3,1,2,4,5,6,2,3,5)\n",
    "s = set(t)\n",
    "t = tuple(s)\n",
    "print(t)"
   ]
  },
  {
   "cell_type": "markdown",
   "metadata": {},
   "source": [
    "### 09) WAP to multiply adjacent elements of a tuple and print that resultant tuple."
   ]
  },
  {
   "cell_type": "code",
   "execution_count": 37,
   "metadata": {},
   "outputs": [
    {
     "name": "stdout",
     "output_type": "stream",
     "text": [
      "(2, 6, 12, 20, 30)\n"
     ]
    }
   ],
   "source": [
    "t = (1, 2, 3, 4, 5, 6)\n",
    "l1 = []\n",
    "l = list(t)\n",
    "prev = l[0]\n",
    "for i in range(1,len(l)):\n",
    "    l1.append(l[i]*prev)\n",
    "    prev = l[i]\n",
    "    \n",
    "t = tuple(l1)\n",
    "print(t)"
   ]
  },
  {
   "cell_type": "markdown",
   "metadata": {},
   "source": [
    "### 10) WAP to test if the given tuple is distinct or not."
   ]
  },
  {
   "cell_type": "code",
   "execution_count": 43,
   "metadata": {},
   "outputs": [
    {
     "name": "stdout",
     "output_type": "stream",
     "text": [
      "tuples is distinct.\n"
     ]
    }
   ],
   "source": [
    "t1 = (1,2,3,4,5)\n",
    "t2 = (1,2,3,4,5)\n",
    "\n",
    "if (len(t1) != len(t2)):\n",
    "    print(\"tuples is Not distinct.\")\n",
    "\n",
    "else:\n",
    "    for i in range(0,len(t1)):\n",
    "        if (t1[i] != t2[i]):\n",
    "            print(\"tuples is Not distinct.\")\n",
    "            break\n",
    "    else : \n",
    "        print(\"tuples is distinct.\")\n"
   ]
  }
 ],
 "metadata": {
  "kernelspec": {
   "display_name": "Python 3 (ipykernel)",
   "language": "python",
   "name": "python3"
  },
  "language_info": {
   "codemirror_mode": {
    "name": "ipython",
    "version": 3
   },
   "file_extension": ".py",
   "mimetype": "text/x-python",
   "name": "python",
   "nbconvert_exporter": "python",
   "pygments_lexer": "ipython3",
   "version": "3.13.1"
  }
 },
 "nbformat": 4,
 "nbformat_minor": 4
}
