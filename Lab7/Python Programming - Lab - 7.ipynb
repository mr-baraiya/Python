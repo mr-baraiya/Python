{
 "cells": [
  {
   "cell_type": "markdown",
   "metadata": {},
   "source": [
    "<a href='https://www.darshan.ac.in/'> <img src='https://www.darshan.ac.in/Content/media/DU_Logo.svg' width=\"250\" height=\"300\"/></a>\n",
    "<pre>\n",
    "<center><b><h1>Python Programming - 2301CS404</b></center>\n",
    "<center><b><h1>Lab - 7</b></center>    \n",
    "<center><b><h1>223 | Vishal Baraiya | 23010101014</b></center>   \n",
    "<pre>"
   ]
  },
  {
   "cell_type": "markdown",
   "metadata": {},
   "source": [
    "# Set & Dictionary"
   ]
  },
  {
   "cell_type": "markdown",
   "metadata": {},
   "source": [
    "### 01) WAP to iterate over a set."
   ]
  },
  {
   "cell_type": "code",
   "execution_count": 1,
   "metadata": {},
   "outputs": [
    {
     "name": "stdout",
     "output_type": "stream",
     "text": [
      "1\n",
      "2\n",
      "3\n",
      "4\n",
      "5\n"
     ]
    }
   ],
   "source": [
    "set1 = {1,2,3,4,5}\n",
    "for i in set1:\n",
    "    print(i)"
   ]
  },
  {
   "cell_type": "markdown",
   "metadata": {},
   "source": [
    "### 02) WAP to convert set into list, string and tuple."
   ]
  },
  {
   "cell_type": "code",
   "execution_count": 12,
   "metadata": {},
   "outputs": [
    {
     "name": "stdout",
     "output_type": "stream",
     "text": [
      "<class 'list'>  :  [1, 2, 3, 4, 5, 6, 7, 8, 9]\n",
      "<class 'str'>  :  123456789\n",
      "<class 'tuple'>  :  (1, 2, 3, 4, 5, 6, 7, 8, 9)\n"
     ]
    }
   ],
   "source": [
    "set1 = {1,2,3,4,5,6,7,8,9}\n",
    "l = list(set1)\n",
    "s = ''.join([str(i) for i in l])\n",
    "t = tuple(set1)\n",
    "\n",
    "print(type(l),\" : \",l)\n",
    "print(type(s),\" : \",s)\n",
    "print(type(t),\" : \",t)"
   ]
  },
  {
   "cell_type": "markdown",
   "metadata": {},
   "source": [
    "### 03) WAP to find Maximum and Minimum from a set."
   ]
  },
  {
   "cell_type": "code",
   "execution_count": 20,
   "metadata": {},
   "outputs": [
    {
     "name": "stdout",
     "output_type": "stream",
     "text": [
      "max =  15\n",
      "min =  -12\n"
     ]
    }
   ],
   "source": [
    "set1 = {1,2,3,15,-12,4,5,6,7,8,9}\n",
    "# print(\"max = \",max(set1))\n",
    "# print(\"max = \",min(set1))\n",
    "l = list(set1)\n",
    "minnum = l[0]\n",
    "maxnum = l[0]\n",
    "for i in l:\n",
    "    if(maxnum < i):\n",
    "        maxnum = i\n",
    "    if(minnum > i):\n",
    "        minnum = i\n",
    "print(\"max = \",maxnum)\n",
    "print(\"min = \",minnum)"
   ]
  },
  {
   "cell_type": "markdown",
   "metadata": {},
   "source": [
    "### 04) WAP to perform union of two sets."
   ]
  },
  {
   "cell_type": "code",
   "execution_count": 23,
   "metadata": {},
   "outputs": [
    {
     "name": "stdout",
     "output_type": "stream",
     "text": [
      "{1, 2, 3, 4, 5, 6, 8, 10}\n",
      "{1, 2, 3, 4, 5}\n"
     ]
    }
   ],
   "source": [
    "set1 = {1,2,3,4,5}\n",
    "set2 = {2,4,6,8,10}\n",
    "\n",
    "print(set1.union(set2))"
   ]
  },
  {
   "cell_type": "markdown",
   "metadata": {},
   "source": [
    "### 05) WAP to check if two lists have at-least one element common."
   ]
  },
  {
   "cell_type": "code",
   "execution_count": 28,
   "metadata": {},
   "outputs": [
    {
     "name": "stdout",
     "output_type": "stream",
     "text": [
      "{3, 4}\n"
     ]
    }
   ],
   "source": [
    "l1 = [12,3,5,4,5]\n",
    "l2 = [1,2,3,4]\n",
    "set1 = set(l1)\n",
    "set2 = set(l2)\n",
    "if len(set1.intersection(set2)) >= 1:\n",
    "    print(set1.intersection(set2))\n",
    "else:\n",
    "    print(\"list have not common elemants\")"
   ]
  },
  {
   "cell_type": "markdown",
   "metadata": {},
   "source": [
    "### 06) WAP to remove duplicates from list."
   ]
  },
  {
   "cell_type": "code",
   "execution_count": 42,
   "metadata": {},
   "outputs": [
    {
     "name": "stdout",
     "output_type": "stream",
     "text": [
      "[1, 2, 3, 4, 5, 6]\n"
     ]
    }
   ],
   "source": [
    "l = [1,2,3,4,5,3,4,2,6,6,6,6]\n",
    "l = list(set(l))\n",
    "print(l)"
   ]
  },
  {
   "cell_type": "markdown",
   "metadata": {},
   "source": [
    "### 07) WAP to find unique words in the given string."
   ]
  },
  {
   "cell_type": "code",
   "execution_count": 47,
   "metadata": {},
   "outputs": [
    {
     "name": "stdout",
     "output_type": "stream",
     "text": [
      "{'My', 'Stark', '', 'is', 'Name', 'Tony'}\n"
     ]
    }
   ],
   "source": [
    "s = \"My Name is Tony Stark Tony Stark \"\n",
    "set1 = set(s.split(\" \"))\n",
    "print(set1)"
   ]
  },
  {
   "cell_type": "markdown",
   "metadata": {},
   "source": [
    "### 08) WAP to remove common elements of set A & B from set A."
   ]
  },
  {
   "cell_type": "code",
   "execution_count": 3,
   "metadata": {},
   "outputs": [
    {
     "name": "stdout",
     "output_type": "stream",
     "text": [
      "{1, 3, 5}\n"
     ]
    }
   ],
   "source": [
    "a = {1,2,3,4,5}\n",
    "b = {2,4,6,8,10}\n",
    "a.difference_update(b)\n",
    "print(a)"
   ]
  },
  {
   "cell_type": "markdown",
   "metadata": {},
   "source": [
    "### 09) WAP to check whether two given strings are anagram or not using set."
   ]
  },
  {
   "cell_type": "code",
   "execution_count": 63,
   "metadata": {},
   "outputs": [
    {
     "name": "stdout",
     "output_type": "stream",
     "text": [
      "abcd and dabc is anagram.\n"
     ]
    }
   ],
   "source": [
    "s1 = \"abcd\"\n",
    "s2 = \"dabc\"\n",
    "set1 = set(s1)\n",
    "set2 = set(s2)\n",
    "if (len(s1) == len(s2)) and (set1 == (set1 & set2)):\n",
    "    print(f\"{s1} and {s2} is anagram.\")\n",
    "else:\n",
    "    print(f\"{s1} and {s2} is Not anagram.\")"
   ]
  },
  {
   "cell_type": "markdown",
   "metadata": {},
   "source": [
    "### 10) WAP to find common elements in three lists using set."
   ]
  },
  {
   "cell_type": "code",
   "execution_count": 64,
   "metadata": {},
   "outputs": [
    {
     "name": "stdout",
     "output_type": "stream",
     "text": [
      "{3, 5, 7}\n"
     ]
    }
   ],
   "source": [
    "l1 = [1,3,5,7,9]\n",
    "l2 = [2,3,5,7]\n",
    "l3 = [1,2,3,4,5,6,7,8]\n",
    "\n",
    "set1 = set(l1)\n",
    "set2 = set(l2)\n",
    "set3 = set(l3)\n",
    "\n",
    "print(set1 & set2 & set3)"
   ]
  },
  {
   "cell_type": "markdown",
   "metadata": {},
   "source": [
    "### 11) WAP to count number of vowels in given string using set."
   ]
  },
  {
   "cell_type": "code",
   "execution_count": 72,
   "metadata": {},
   "outputs": [
    {
     "name": "stdin",
     "output_type": "stream",
     "text": [
      "Enter the String :  aEiod\n"
     ]
    },
    {
     "name": "stdout",
     "output_type": "stream",
     "text": [
      "Number of Vowels in aEiod : 4\n"
     ]
    }
   ],
   "source": [
    "set1 = {'a','e','i','o','u'}\n",
    "s = input(\"Enter the String : \")\n",
    "count_vowels = 0\n",
    "for i in s.lower():\n",
    "    if i in set1:\n",
    "        count_vowels+=1;\n",
    "    else:\n",
    "        pass\n",
    "print(f\"Number of Vowels in {s} : {count_vowels}\")"
   ]
  },
  {
   "cell_type": "markdown",
   "metadata": {},
   "source": [
    "### 12) WAP to check if a given string is binary string or not."
   ]
  },
  {
   "cell_type": "code",
   "execution_count": 82,
   "metadata": {},
   "outputs": [
    {
     "name": "stdin",
     "output_type": "stream",
     "text": [
      "Enter the String :  fcgv\n"
     ]
    },
    {
     "name": "stdout",
     "output_type": "stream",
     "text": [
      "fcgv is Not a Binary String.\n"
     ]
    }
   ],
   "source": [
    "set1 = {'1','0'}\n",
    "s = input(\"Enter the String : \")\n",
    "count_vowels = 0\n",
    "for i in s:\n",
    "    if i not in set1:\n",
    "        print(f\"{s} is Not a Binary String.\")\n",
    "        break\n",
    "else:\n",
    "    print(f\"{s} is a Binary String.\")"
   ]
  },
  {
   "cell_type": "markdown",
   "metadata": {},
   "source": [
    "### 13) WAP to sort dictionary by key or value."
   ]
  },
  {
   "cell_type": "code",
   "execution_count": 16,
   "metadata": {},
   "outputs": [
    {
     "name": "stdout",
     "output_type": "stream",
     "text": [
      "{'a': 4, 'b': 2, 'c': 3, 'd': 1}\n",
      "{'d': 1, 'b': 2, 'c': 3, 'a': 4}\n"
     ]
    }
   ],
   "source": [
    "d = {'d': 1, 'b': 2, 'c': 3, 'a' : 4}\n",
    "d1 = dict(sorted(d.items()))\n",
    "print(d1)\n",
    "d2 = dict(sorted(d.items(), key=lambda item: item[1]))\n",
    "print(d2)\n",
    "# l1 = list(d.keys())\n",
    "# l1.sort()\n",
    "# for i in l1:\n",
    "#     print(f\"{i} : {d[i]}\")"
   ]
  },
  {
   "cell_type": "markdown",
   "metadata": {},
   "source": [
    "### 14) WAP to find the sum of all items (values) in a dictionary given by user. (Assume: values are numeric)"
   ]
  },
  {
   "cell_type": "code",
   "execution_count": 91,
   "metadata": {},
   "outputs": [
    {
     "name": "stdin",
     "output_type": "stream",
     "text": [
      "Enter the Number 12\n",
      "Enter the Number 34\n",
      "Enter the Number 56\n",
      "Enter the Number 78\n",
      "Enter the Number 90\n"
     ]
    },
    {
     "name": "stdout",
     "output_type": "stream",
     "text": [
      "ans =  270\n"
     ]
    }
   ],
   "source": [
    "d = {}\n",
    "for i in range(1,6):\n",
    "    n = int(input(\"Enter the Number\"))\n",
    "    d[i] = n\n",
    "ans = 0\n",
    "for i in d.keys():\n",
    "    ans += d[i]\n",
    "print(\"ans = \",ans)"
   ]
  },
  {
   "cell_type": "markdown",
   "metadata": {},
   "source": [
    "### 15) WAP to handle missing keys in dictionaries.\n",
    "#### Example : Given, dict1 = {'a': 5, 'c': 8, 'e': 2} \n",
    "#### if you look for key = 'd', the message given should be 'Key Not Found', otherwise print the value of 'd' in dict1."
   ]
  },
  {
   "cell_type": "code",
   "execution_count": 19,
   "metadata": {},
   "outputs": [
    {
     "name": "stdin",
     "output_type": "stream",
     "text": [
      "Enter the Key :  c\n"
     ]
    },
    {
     "name": "stdout",
     "output_type": "stream",
     "text": [
      "c : 8\n"
     ]
    }
   ],
   "source": [
    "dict1 = {'a': 5, 'c': 8, 'e': 2}\n",
    "key = input(\"Enter the Key : \")\n",
    "if key in dict1.keys():\n",
    "    print(f\"{key} : {dict1[key]}\")\n",
    "else:\n",
    "    print(\"Key Not Found\")"
   ]
  },
  {
   "cell_type": "code",
   "execution_count": null,
   "metadata": {},
   "outputs": [],
   "source": []
  }
 ],
 "metadata": {
  "kernelspec": {
   "display_name": "Python 3 (ipykernel)",
   "language": "python",
   "name": "python3"
  },
  "language_info": {
   "codemirror_mode": {
    "name": "ipython",
    "version": 3
   },
   "file_extension": ".py",
   "mimetype": "text/x-python",
   "name": "python",
   "nbconvert_exporter": "python",
   "pygments_lexer": "ipython3",
   "version": "3.13.1"
  }
 },
 "nbformat": 4,
 "nbformat_minor": 4
}
