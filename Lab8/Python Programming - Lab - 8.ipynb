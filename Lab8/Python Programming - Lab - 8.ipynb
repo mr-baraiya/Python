{
 "cells": [
  {
   "cell_type": "markdown",
   "metadata": {},
   "source": [
    "<a href='https://www.darshan.ac.in/'> <img src='https://www.darshan.ac.in/Content/media/DU_Logo.svg' width=\"250\" height=\"300\"/></a>\n",
    "<pre>\n",
    "<center><b><h1>Python Programming - 2301CS404</b></center>\n",
    "<center><b><h1>Lab - 8</b></center>    \n",
    "<center><b><h1>223 | Vishal Baraiya | 23010101014</b></center>    \n",
    "<pre>"
   ]
  },
  {
   "cell_type": "markdown",
   "metadata": {},
   "source": [
    "# User Defined Function"
   ]
  },
  {
   "cell_type": "markdown",
   "metadata": {},
   "source": [
    "### 01) Write a function to calculate BMI given mass and height. (BMI = mass/h**2)"
   ]
  },
  {
   "cell_type": "code",
   "execution_count": 3,
   "metadata": {},
   "outputs": [
    {
     "name": "stdin",
     "output_type": "stream",
     "text": [
      "Enter the Mass :  50\n",
      "Enter the Height :  5\n"
     ]
    },
    {
     "name": "stdout",
     "output_type": "stream",
     "text": [
      "BMI = 2.0\n"
     ]
    }
   ],
   "source": [
    "def calBMI(mass,height):\n",
    "    return mass/height**2\n",
    "    \n",
    "mass = int(input(\"Enter the Mass : \"))\n",
    "height = int(input(\"Enter the Height : \"))\n",
    "print(f\"BMI = {calBMI(mass,height)}\")"
   ]
  },
  {
   "cell_type": "markdown",
   "metadata": {},
   "source": [
    "### 02) Write a function that add first n numbers."
   ]
  },
  {
   "cell_type": "code",
   "execution_count": 3,
   "metadata": {},
   "outputs": [
    {
     "name": "stdin",
     "output_type": "stream",
     "text": [
      "Enter the Number :  10\n"
     ]
    },
    {
     "name": "stdout",
     "output_type": "stream",
     "text": [
      "Sum of first 10 numbers is = 55\n"
     ]
    }
   ],
   "source": [
    "def sumOfFirstN(n):\n",
    "    sum = 0\n",
    "    for i in range(0,n+1):\n",
    "        sum += i\n",
    "    return sum\n",
    "\n",
    "n = int(input(\"Enter the Number : \"))\n",
    "print(f\"Sum of first {n} numbers is = {sumOfFirstN(n)}\")"
   ]
  },
  {
   "cell_type": "markdown",
   "metadata": {},
   "source": [
    "### 03) Write a function that returns 1 if the given number is Prime or 0 otherwise."
   ]
  },
  {
   "cell_type": "code",
   "execution_count": 7,
   "metadata": {},
   "outputs": [
    {
     "name": "stdin",
     "output_type": "stream",
     "text": [
      "Enter the Number :  4\n"
     ]
    },
    {
     "name": "stdout",
     "output_type": "stream",
     "text": [
      "4 is Not a Prime Number.\n"
     ]
    }
   ],
   "source": [
    "def isPrime(n):\n",
    "    count = 0\n",
    "    for i in range(1,n+1):\n",
    "        if(n % i == 0):\n",
    "            count += 1\n",
    "        else:\n",
    "            pass\n",
    "    if count == 2 :\n",
    "        return 1\n",
    "    else:\n",
    "        return 0\n",
    "\n",
    "n = int(input(\"Enter the Number : \"))\n",
    "if isPrime(n):\n",
    "    print(f\"{n} is a Prime Number.\")\n",
    "else:\n",
    "    print(f\"{n} is Not a Prime Number.\")"
   ]
  },
  {
   "cell_type": "markdown",
   "metadata": {},
   "source": [
    "### 04) Write a function that returns the list of Prime numbers between given two numbers."
   ]
  },
  {
   "cell_type": "code",
   "execution_count": 9,
   "metadata": {},
   "outputs": [
    {
     "name": "stdin",
     "output_type": "stream",
     "text": [
      "Enter the Start :  1\n",
      "Enter the end :  50\n"
     ]
    },
    {
     "name": "stdout",
     "output_type": "stream",
     "text": [
      "[2, 3, 5, 7, 11, 13, 17, 19, 23, 29, 31, 37, 41, 43, 47]\n"
     ]
    }
   ],
   "source": [
    "def isPrime(n):\n",
    "    count = 0\n",
    "    for i in range(1,n+1):\n",
    "        if(n % i == 0):\n",
    "            count += 1\n",
    "        else:\n",
    "            pass\n",
    "    if count == 2 :\n",
    "        return True\n",
    "    else:\n",
    "        return False\n",
    "\n",
    "def findPrimeInRange (start,end):\n",
    "    l = []\n",
    "    for i in range(start,end):\n",
    "        if isPrime(i):\n",
    "            l.append(i)\n",
    "        else:\n",
    "            pass\n",
    "    return l\n",
    "start = int(input(\"Enter the Start : \"))\n",
    "end = int(input(\"Enter the end : \"))\n",
    "l = findPrimeInRange(start,end)\n",
    "print(l)"
   ]
  },
  {
   "cell_type": "markdown",
   "metadata": {},
   "source": [
    "### 05) Write a function that returns True if the given string is Palindrome or False otherwise."
   ]
  },
  {
   "cell_type": "code",
   "execution_count": 17,
   "metadata": {},
   "outputs": [
    {
     "name": "stdin",
     "output_type": "stream",
     "text": [
      "Enter the String :  nayan\n"
     ]
    },
    {
     "name": "stdout",
     "output_type": "stream",
     "text": [
      "nayan is a Palindrome string.\n"
     ]
    }
   ],
   "source": [
    "def isPalindrome(s):\n",
    "    s = s.lower()\n",
    "    return s == s[::-1]\n",
    "\n",
    "s = input(\"Enter the String : \")\n",
    "if isPalindrome(s):\n",
    "    print(f\"{s} is a Palindrome string.\")\n",
    "else:\n",
    "    print(f\"{s} is Not a Palindrome string.\")"
   ]
  },
  {
   "cell_type": "markdown",
   "metadata": {},
   "source": [
    "### 06) Write a function that returns the sum of all the elements of the list."
   ]
  },
  {
   "cell_type": "code",
   "execution_count": 19,
   "metadata": {},
   "outputs": [
    {
     "name": "stdout",
     "output_type": "stream",
     "text": [
      "Sum Of all Elemants Of List is : 439\n"
     ]
    }
   ],
   "source": [
    "def sumOfAllElemantsOfList(l):\n",
    "    ans = 0\n",
    "    for i in l:\n",
    "        ans += i\n",
    "    return ans\n",
    "\n",
    "l = [1,2,34,56,2,312,32]\n",
    "print(f\"Sum Of all Elemants Of List is : {sumOfAllElemantsOfList(l)}\")"
   ]
  },
  {
   "cell_type": "markdown",
   "metadata": {},
   "source": [
    "### 07) Write a function to calculate the sum of the first element of each tuples inside the list."
   ]
  },
  {
   "cell_type": "code",
   "execution_count": 8,
   "metadata": {},
   "outputs": [
    {
     "name": "stdout",
     "output_type": "stream",
     "text": [
      "Sum =  86\n"
     ]
    }
   ],
   "source": [
    "def sumOfFirstElemantOfListOfTuples(l):\n",
    "    ans = 0\n",
    "    for i in l:\n",
    "        ans += i[0]\n",
    "    return ans\n",
    "\n",
    "l = [(1,2),(12,56),(23,45),(45,34),(5,78)]\n",
    "print(\"Sum = \",sumOfFirstElemantOfListOfTuples(l))"
   ]
  },
  {
   "cell_type": "markdown",
   "metadata": {},
   "source": [
    "### 08) Write a recursive function to find nth term of Fibonacci Series."
   ]
  },
  {
   "cell_type": "code",
   "execution_count": 36,
   "metadata": {},
   "outputs": [
    {
     "name": "stdout",
     "output_type": "stream",
     "text": [
      "0\n",
      "1\n",
      "1\n",
      "2\n",
      "3\n",
      "5\n",
      "8\n",
      "13\n",
      "21\n"
     ]
    }
   ],
   "source": [
    "def findNthTermOfFibbonacci(n):\n",
    "    t1 = 0\n",
    "    t2 = 1\n",
    "    if (n == 0):\n",
    "        return 0\n",
    "    s = 0\n",
    "    for i in range(2,n+1):\n",
    "        t1 = t2\n",
    "        t2 = s\n",
    "        s= t1 + t2\n",
    "    return s\n",
    "\n",
    "for i in range(1,10):\n",
    "    print(findNthTermOfFibbonacci(i))"
   ]
  },
  {
   "cell_type": "markdown",
   "metadata": {},
   "source": [
    "# 09) Write a function to get the name of the student based on the given rollno.\n",
    "#### Example: Given dict1 = {101:'Ajay', 102:'Rahul', 103:'Jay', 104:'Pooja'} find name of student whose rollno = 103"
   ]
  },
  {
   "cell_type": "code",
   "execution_count": 37,
   "metadata": {},
   "outputs": [
    {
     "name": "stdout",
     "output_type": "stream",
     "text": [
      "103 : Jay\n"
     ]
    }
   ],
   "source": [
    "d = {101:'Ajay', 102:'Rahul', 103:'Jay', 104:'Pooja'} \n",
    "\n",
    "def findNameFromDict(rollNo):\n",
    "    global d\n",
    "    return d[rollNo]\n",
    "\n",
    "print(f\"103 : {findNameFromDict(103)}\")"
   ]
  },
  {
   "cell_type": "markdown",
   "metadata": {},
   "source": [
    "### 10) Write a function to get the sum of the scores ending with zero.\n",
    "#### Example : scores = [200, 456, 300, 100, 234, 678] \n",
    "#### Ans = 200 + 300 + 100 = 600"
   ]
  },
  {
   "cell_type": "code",
   "execution_count": 41,
   "metadata": {},
   "outputs": [
    {
     "name": "stdout",
     "output_type": "stream",
     "text": [
      "Sum = 620\n"
     ]
    }
   ],
   "source": [
    "def getScoreEndWithZero(l):\n",
    "    sum = 0\n",
    "    for i in l:\n",
    "        if i % 10 == 0:\n",
    "            sum += i\n",
    "        else:\n",
    "            pass\n",
    "    return sum\n",
    "scores = [200, 456, 300, 100, 234, 678,20]\n",
    "print(f\"Sum = {getScoreEndWithZero(scores)}\")"
   ]
  },
  {
   "cell_type": "markdown",
   "metadata": {},
   "source": [
    "### 11) Write a function to invert a given Dictionary.\n",
    "#### hint: keys to values & values to keys\n",
    "#### Before : {'a': 10, 'b':20, 'c':30, 'd':40}\n",
    "#### After : {10:'a', 20:'b', 30:'c', 40:'d'}"
   ]
  },
  {
   "cell_type": "code",
   "execution_count": 52,
   "metadata": {},
   "outputs": [
    {
     "name": "stdout",
     "output_type": "stream",
     "text": [
      "Before :  {'a': 10, 'b': 20, 'c': 30, 'd': 40}\n",
      "After :  {10: 'a', 20: 'b', 30: 'c', 40: 'd'}\n"
     ]
    }
   ],
   "source": [
    "def invertDictionary(d):\n",
    "    di = {}\n",
    "    for i in d.keys():\n",
    "        di[d[i]] = i\n",
    "    return di\n",
    "\n",
    "d = {'a': 10, 'b':20, 'c':30, 'd':40}\n",
    "print(\"Before : \",d)\n",
    "d = invertDictionary(d)\n",
    "print(\"After : \",d)"
   ]
  },
  {
   "cell_type": "markdown",
   "metadata": {},
   "source": [
    "### 12) Write a function to check whether the given string is Pangram or not.\n",
    "#### hint: Pangram is a string containing all the characters a-z atlest once.\n",
    "#### \"the quick brown fox jumps over the lazy dog\" is a Pangram string."
   ]
  },
  {
   "cell_type": "code",
   "execution_count": 62,
   "metadata": {},
   "outputs": [
    {
     "name": "stdout",
     "output_type": "stream",
     "text": [
      "True\n"
     ]
    }
   ],
   "source": [
    "def isPanagram(s):\n",
    "    s=s.replace(\" \",\"\")\n",
    "    s=s.lower()\n",
    "    s=list(set(s))\n",
    "    s.sort()\n",
    "    s=\"\".join(s)\n",
    "    alphabets = \"abcdefghijklmnopqrstuvwxyz\"\n",
    "    return s == alphabets\n",
    "s = \"the quick brown fox jumps over the lazy dog\"\n",
    "print(f\"{isPanagram(s)}\")"
   ]
  },
  {
   "cell_type": "markdown",
   "metadata": {},
   "source": [
    "### 13) Write a function that returns the number of uppercase and lowercase letters in the given string. \n",
    "#### example : Input : s1 = AbcDEfgh ,Ouptput : no_upper = 3, no_lower = 5"
   ]
  },
  {
   "cell_type": "code",
   "execution_count": 67,
   "metadata": {},
   "outputs": [
    {
     "name": "stdout",
     "output_type": "stream",
     "text": [
      "Count Of Lower : 5\n",
      "Count Of Upper : 3\n"
     ]
    }
   ],
   "source": [
    "def count_lower(s : str):\n",
    "    countLower = 0\n",
    "    for i in s:\n",
    "        if i.islower():\n",
    "            countLower += 1\n",
    "    return countLower\n",
    "def count_upper(s : str):\n",
    "    countUpper = 0\n",
    "    for i in s:\n",
    "        if i.isupper():\n",
    "            countUpper += 1\n",
    "    return countUpper\n",
    "\n",
    "s1 = \"AbcDEfgh\"\n",
    "print(f\"Count Of Lower : {count_lower(s1)}\")\n",
    "print(f\"Count Of Upper : {count_upper(s1)}\")"
   ]
  },
  {
   "cell_type": "markdown",
   "metadata": {},
   "source": [
    "### 14) Write a lambda function to get smallest number from the given two numbers."
   ]
  },
  {
   "cell_type": "code",
   "execution_count": 72,
   "metadata": {},
   "outputs": [
    {
     "name": "stdout",
     "output_type": "stream",
     "text": [
      "34\n"
     ]
    }
   ],
   "source": [
    "largestOfTwo = lambda a,b : a if (a > b) else b\n",
    "print(largestOfTwo(12,34))"
   ]
  },
  {
   "cell_type": "markdown",
   "metadata": {},
   "source": [
    "### 15) For the given list of names of students, extract the names having more that 7 characters. Use filter()."
   ]
  },
  {
   "cell_type": "code",
   "execution_count": 74,
   "metadata": {},
   "outputs": [
    {
     "name": "stdout",
     "output_type": "stream",
     "text": [
      "['abcdefgh', 'Vishal Baraiya', 'Rahim Roda']\n"
     ]
    }
   ],
   "source": [
    "name = [\"abcdefgh\",\"Vishal Baraiya\",\"Rahim Roda\",\"asdf\",\"qwerty\"]\n",
    "l = filter(lambda i : len(i) > 7, name)\n",
    "print(list(l))"
   ]
  },
  {
   "cell_type": "markdown",
   "metadata": {},
   "source": [
    "### 16) For the given list of names of students, convert the first letter of all the names into uppercase. use map()."
   ]
  },
  {
   "cell_type": "code",
   "execution_count": 77,
   "metadata": {},
   "outputs": [
    {
     "name": "stdout",
     "output_type": "stream",
     "text": [
      "['Abcdefgh', 'Vishal baraiya', 'Rahim roda', 'Asdf', 'Qwerty']\n"
     ]
    }
   ],
   "source": [
    "name = [\"abcdefgh\",\"Vishal Baraiya\",\"Rahim Roda\",\"asdf\",\"qwerty\"]\n",
    "l = map(lambda i : i.capitalize(), name)\n",
    "print(list(l))"
   ]
  },
  {
   "cell_type": "markdown",
   "metadata": {},
   "source": [
    "### 17) Write udfs to call the functions with following types of arguments:\n",
    "1. Positional Arguments\n",
    "2. Keyword Arguments\n",
    "3. Default Arguments\n",
    "4. Variable Legngth Positional(*args) & variable length Keyword Arguments (**kwargs)\n",
    "5. Keyword-Only & Positional Only Arguments"
   ]
  },
  {
   "cell_type": "code",
   "execution_count": 83,
   "metadata": {},
   "outputs": [
    {
     "name": "stdout",
     "output_type": "stream",
     "text": [
      "Hi, I am Prince\n",
      "My age is  20\n",
      "Hi, I am Prince\n",
      "My age is  20\n",
      "Hi, I am Vishal\n",
      "My age is  18\n",
      "15\n",
      "120\n"
     ]
    }
   ],
   "source": [
    "def printNameAge(name = \"Vishal\", age = 18):\n",
    "    print(\"Hi, I am\", name)\n",
    "    print(\"My age is \", age)\n",
    "\n",
    "printNameAge(\"Prince\", 20) # Positional Arguments , Positional Only Arguments\n",
    "printNameAge(age=20, name=\"Prince\") # Keyword Arguments , Keyword-Only\n",
    "printNameAge() # Default Arguments\n",
    "\n",
    "def sum_all(*args):\n",
    "    result = 0\n",
    "    for num in args:\n",
    "        result += num\n",
    "    return result\n",
    " \n",
    "print(sum_all(1, 2, 3, 4, 5)) # Variable Legngth Positional(*args)\n",
    "\n",
    "def mul_all(*args):\n",
    "    result = 1\n",
    "    for num in args:\n",
    "        result *= num\n",
    "    return result\n",
    " \n",
    "print(mul_all(1, 2, 3, 4, 5)) # variable length Keyword Arguments (**kwargs)"
   ]
  },
  {
   "cell_type": "code",
   "execution_count": 84,
   "metadata": {},
   "outputs": [
    {
     "name": "stdout",
     "output_type": "stream",
     "text": [
      "15\n"
     ]
    }
   ],
   "source": [
    "from functools import reduce\n",
    "\n",
    "# Function to add two numbers\n",
    "def add(x, y):\n",
    "    return x + y\n",
    "\n",
    "a = [1, 2, 3, 4, 5]\n",
    "res = reduce(add, a)\n",
    "\n",
    "print(res)  # Output: 15"
   ]
  },
  {
   "cell_type": "code",
   "execution_count": null,
   "metadata": {},
   "outputs": [],
   "source": []
  }
 ],
 "metadata": {
  "kernelspec": {
   "display_name": "Python 3 (ipykernel)",
   "language": "python",
   "name": "python3"
  },
  "language_info": {
   "codemirror_mode": {
    "name": "ipython",
    "version": 3
   },
   "file_extension": ".py",
   "mimetype": "text/x-python",
   "name": "python",
   "nbconvert_exporter": "python",
   "pygments_lexer": "ipython3",
   "version": "3.13.1"
  }
 },
 "nbformat": 4,
 "nbformat_minor": 4
}
